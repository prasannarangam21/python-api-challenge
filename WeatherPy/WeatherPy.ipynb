{
 "cells": [
  {
   "cell_type": "markdown",
   "metadata": {},
   "source": [
    "# WeatherPy\n",
    "----\n",
    "\n",
    "#### Note\n",
    "* Instructions have been included for each segment. You do not have to follow them exactly, but they are included to help you think through the steps."
   ]
  },
  {
   "cell_type": "code",
   "execution_count": 1,
   "metadata": {
    "scrolled": true
   },
   "outputs": [],
   "source": [
    "# Dependencies and Setup\n",
    "import matplotlib.pyplot as plt\n",
    "import pandas as pd\n",
    "import numpy as np\n",
    "import requests\n",
    "import csv\n",
    "import time\n",
    "from scipy.stats import linregress\n",
    "\n",
    "# Import API key\n",
    "from api_keys import weather_api_key\n",
    "\n",
    "# Incorporated citipy to determine city based on latitude and longitude\n",
    "from citipy import citipy\n",
    "\n",
    "# Output File (CSV)\n",
    "output_data_file = \"../output_data/cities.csv\"\n",
    "\n",
    "# Range of latitudes and longitudes\n",
    "lat_range = (-90, 90)\n",
    "lng_range = (-180, 180)"
   ]
  },
  {
   "cell_type": "markdown",
   "metadata": {},
   "source": [
    "## Generate Cities List"
   ]
  },
  {
   "cell_type": "code",
   "execution_count": 2,
   "metadata": {},
   "outputs": [
    {
     "data": {
      "text/plain": [
       "611"
      ]
     },
     "execution_count": 2,
     "metadata": {},
     "output_type": "execute_result"
    }
   ],
   "source": [
    "# List for holding lat_lngs and cities\n",
    "lat_lngs = []\n",
    "cities = []\n",
    "\n",
    "# Create a set of random lat and lng combinations\n",
    "lats = np.random.uniform(low=-90.000, high=90.000, size=1500)\n",
    "lngs = np.random.uniform(low=-180.000, high=180.000, size=1500)\n",
    "lat_lngs = zip(lats, lngs)\n",
    "\n",
    "# Identify nearest city for each lat, lng combination\n",
    "for lat_lng in lat_lngs:\n",
    "    city = citipy.nearest_city(lat_lng[0], lat_lng[1]).city_name\n",
    "    \n",
    "    # If the city is unique, then add it to a our cities list\n",
    "    if city not in cities:\n",
    "        cities.append(city)\n",
    "    \n",
    "# Print the city count to confirm sufficient count\n",
    "len(cities)"
   ]
  },
  {
   "cell_type": "markdown",
   "metadata": {},
   "source": [
    "### Perform API Calls\n",
    "* Perform a weather check on each city using a series of successive API calls.\n",
    "* Include a print log of each city as it'sbeing processed (with the city number and city name).\n"
   ]
  },
  {
   "cell_type": "code",
   "execution_count": 3,
   "metadata": {},
   "outputs": [
    {
     "name": "stdout",
     "output_type": "stream",
     "text": [
      "Beginning Data Retrieval \n",
      "----------------------------\n",
      "Processing : puerto ayora\n",
      "Processing : ushuaia\n",
      "Processing : jamestown\n",
      "Processing : busselton\n",
      "City not found. Skipping...\n",
      "Processing : georgiyevskoye\n",
      "Processing : bethel\n",
      "Processing : bluff\n",
      "City not found. Skipping...\n",
      "Processing : kamenka\n",
      "Processing : sao miguel do araguaia\n",
      "City not found. Skipping...\n",
      "Processing : vorokhta\n",
      "Processing : kuandian\n",
      "Processing : souillac\n",
      "Processing : saint-philippe\n",
      "Processing : bourail\n",
      "Processing : rikitea\n",
      "Processing : mbandaka\n",
      "Processing : qaanaaq\n",
      "Processing : chapais\n",
      "City not found. Skipping...\n",
      "Processing : atuona\n",
      "Processing : cidreira\n",
      "Processing : reinosa\n",
      "Processing : calama\n",
      "Processing : salalah\n",
      "Processing : leningradskiy\n",
      "Processing : shamsabad\n",
      "Processing : marondera\n",
      "Processing : sur\n",
      "City not found. Skipping...\n",
      "Processing : thompson\n",
      "Processing : albany\n",
      "Processing : igarka\n",
      "Processing : torit\n",
      "Processing : arraial do cabo\n",
      "Processing : buraydah\n",
      "Processing : punta arenas\n",
      "Processing : khatanga\n",
      "Processing : marica\n",
      "City not found. Skipping...\n",
      "Processing : vaini\n",
      "Processing : tuatapere\n",
      "Processing : severo-kurilsk\n",
      "Processing : lebu\n",
      "Processing : amapa\n",
      "Processing : port-cartier\n",
      "Processing : fairbanks\n",
      "Processing : mataura\n",
      "Processing : margate\n",
      "City not found. Skipping...\n",
      "Processing : kapaa\n",
      "Processing : mantua\n",
      "Processing : acobamba\n",
      "Processing : castro\n",
      "Processing : beboto\n",
      "Processing : yellowknife\n",
      "Processing : lander\n",
      "Processing : ponta do sol\n",
      "City not found. Skipping...\n",
      "Processing : tiksi\n",
      "Processing : faanui\n",
      "City not found. Skipping...\n",
      "Processing : barrow\n",
      "Processing : vila franca do campo\n",
      "Processing : chuy\n",
      "Processing : tasiilaq\n",
      "Processing : asau\n",
      "Processing : hobart\n",
      "Processing : ixtapa\n",
      "City not found. Skipping...\n",
      "City not found. Skipping...\n",
      "Processing : east london\n",
      "Processing : bredasdorp\n",
      "Processing : kavaratti\n",
      "Processing : elko\n",
      "Processing : lengshuitan\n",
      "Processing : karratha\n",
      "Processing : san francisco del mar\n",
      "Processing : opuwo\n",
      "Processing : siavonga\n",
      "Processing : new norfolk\n",
      "Processing : yumen\n",
      "Processing : batemans bay\n",
      "Processing : upernavik\n",
      "Processing : port alfred\n",
      "Processing : leshan\n",
      "Processing : gazimurskiy zavod\n",
      "Processing : norman wells\n",
      "Processing : isangel\n",
      "Processing : hilo\n",
      "Processing : chicama\n",
      "Processing : henties bay\n",
      "Processing : skeldon\n",
      "Processing : ribeira grande\n",
      "Processing : mangrol\n",
      "Processing : pisco\n",
      "Processing : lata\n",
      "Processing : butaritari\n",
      "Processing : concepcion del oro\n",
      "Processing : yulara\n",
      "Processing : richards bay\n",
      "Processing : omsukchan\n",
      "City not found. Skipping...\n",
      "Processing : georgetown\n",
      "Processing : dikson\n",
      "Processing : harper\n",
      "Processing : victoria\n",
      "Processing : ust-nera\n",
      "City not found. Skipping...\n",
      "Processing : dubti\n",
      "Processing : mar del plata\n",
      "Processing : mocuba\n",
      "Processing : miri\n",
      "Processing : lasa\n",
      "Processing : dicabisagan\n",
      "Processing : cabo san lucas\n",
      "Processing : ponta delgada\n",
      "Processing : balikpapan\n",
      "Processing : kamarion\n",
      "Processing : nampula\n",
      "Processing : dumka\n",
      "Processing : mehamn\n",
      "Processing : hambantota\n",
      "Processing : faya\n",
      "City not found. Skipping...\n",
      "Processing : taft\n",
      "Processing : seoul\n",
      "City not found. Skipping...\n",
      "Processing : hajiganj\n",
      "Processing : pevek\n",
      "Processing : lazaro cardenas\n",
      "Processing : bengkulu\n",
      "Processing : omaruru\n",
      "City not found. Skipping...\n",
      "Processing : soto la marina\n",
      "Processing : hasaki\n",
      "Processing : lompoc\n",
      "Processing : guerrero negro\n",
      "Processing : villa bisono\n",
      "Processing : west bay\n",
      "Processing : roebourne\n",
      "Processing : oroville\n",
      "Processing : abashiri\n",
      "Processing : naze\n",
      "Processing : kruisfontein\n",
      "Processing : caravelas\n",
      "Processing : sabang\n",
      "Processing : arcata\n",
      "Processing : cape town\n",
      "Processing : hermanus\n",
      "Processing : arecibo\n",
      "Processing : asosa\n",
      "Processing : avarua\n",
      "City not found. Skipping...\n",
      "City not found. Skipping...\n",
      "City not found. Skipping...\n",
      "City not found. Skipping...\n",
      "Processing : solnechnyy\n",
      "Processing : ramshir\n",
      "Processing : cayenne\n",
      "Processing : airai\n",
      "Processing : staryy nadym\n",
      "Processing : byron bay\n",
      "Processing : bhagalpur\n",
      "Processing : cockburn town\n",
      "Processing : ambulu\n",
      "Processing : college\n",
      "Processing : benguela\n",
      "Processing : korla\n",
      "Processing : carnarvon\n",
      "Processing : nabire\n",
      "Processing : khash\n",
      "Processing : pangkalanbuun\n",
      "City not found. Skipping...\n",
      "Processing : kemi\n",
      "Processing : chernukha\n",
      "Processing : santa cruz\n",
      "Processing : dimona\n",
      "Processing : nakhon phanom\n",
      "Processing : salas\n",
      "Processing : nuuk\n",
      "Processing : tambacounda\n",
      "Processing : poronaysk\n",
      "City not found. Skipping...\n",
      "Processing : nanortalik\n",
      "City not found. Skipping...\n",
      "Processing : luqiao\n",
      "Processing : yenagoa\n",
      "Processing : athy\n",
      "Processing : cabedelo\n",
      "Processing : balkanabat\n",
      "Processing : locri\n",
      "Processing : longyearbyen\n",
      "City not found. Skipping...\n",
      "Processing : nieuwpoort\n",
      "Processing : geraldton\n",
      "Processing : aklavik\n",
      "Processing : taga\n",
      "Processing : mecca\n",
      "Processing : yar-sale\n",
      "Processing : okhotsk\n",
      "Processing : vestmannaeyjar\n",
      "Processing : hervey bay\n",
      "Processing : adrar\n",
      "Processing : muncar\n",
      "Processing : atambua\n",
      "Processing : haines junction\n",
      "Processing : lamu\n",
      "Processing : nikolskoye\n",
      "Processing : namibe\n",
      "Processing : phalaborwa\n",
      "Processing : kaitangata\n",
      "Processing : muravlenko\n",
      "Processing : bukachacha\n",
      "Processing : coihaique\n",
      "Processing : tessalit\n",
      "Processing : saldanha\n",
      "Processing : west wendover\n",
      "Processing : kuytun\n",
      "Processing : san cristobal\n",
      "Processing : atyrau\n",
      "Processing : gao\n",
      "Processing : lermontovka\n",
      "Processing : ekibastuz\n",
      "City not found. Skipping...\n",
      "Processing : marsh harbour\n",
      "Processing : grand gaube\n",
      "Processing : saskylakh\n",
      "Processing : olinda\n",
      "Processing : katsuura\n",
      "Processing : kailua\n",
      "Processing : bodden town\n",
      "Processing : hithadhoo\n",
      "Processing : dunedin\n",
      "Processing : nanma\n",
      "Processing : bull savanna\n",
      "Processing : te anau\n",
      "Processing : nanakuli\n",
      "City not found. Skipping...\n",
      "Processing : san joaquin\n",
      "Processing : shubarshi\n",
      "City not found. Skipping...\n",
      "Processing : mineiros\n",
      "Processing : cherdyn\n",
      "Processing : aripuana\n",
      "City not found. Skipping...\n",
      "Processing : gorele\n",
      "Processing : kalengwa\n",
      "Processing : palmer\n",
      "Processing : murmashi\n",
      "Processing : gorno-altaysk\n",
      "Processing : vanderhoof\n",
      "Processing : tuktoyaktuk\n",
      "Processing : santa isabel\n",
      "Processing : shingu\n",
      "Processing : portland\n",
      "Processing : nisia floresta\n",
      "Processing : narsaq\n",
      "Processing : bouguenais\n",
      "Processing : touros\n",
      "Processing : manali\n",
      "Processing : walvis bay\n",
      "Processing : leh\n",
      "Processing : ampanihy\n",
      "Processing : chokurdakh\n",
      "Processing : beloha\n",
      "Processing : big rapids\n",
      "Processing : corrente\n",
      "Processing : araouane\n",
      "Processing : hamilton\n",
      "Processing : sinnamary\n",
      "Processing : belaya glina\n",
      "Processing : soria\n",
      "Processing : andrushivka\n",
      "Processing : ornskoldsvik\n",
      "Processing : komoro\n",
      "Processing : netanya\n",
      "Processing : egvekinot\n",
      "Processing : puerto colombia\n",
      "Processing : tiarei\n",
      "Processing : gravelbourg\n",
      "Processing : gizo\n",
      "Processing : broome\n",
      "Processing : cumpas\n",
      "Processing : broken hill\n",
      "Processing : romanovka\n",
      "Processing : bubaque\n",
      "Processing : yeppoon\n",
      "Processing : quatre cocos\n",
      "Processing : maldonado\n",
      "Processing : bandarbeyla\n",
      "Processing : acandi\n",
      "City not found. Skipping...\n",
      "Processing : callaway\n",
      "Processing : sandnessjoen\n",
      "Processing : zhezkazgan\n",
      "Processing : aswan\n",
      "Processing : waingapu\n",
      "Processing : gat\n",
      "Processing : elizabeth city\n",
      "Processing : nadym\n",
      "Processing : kavieng\n",
      "Processing : black river\n",
      "Processing : kalmunai\n",
      "Processing : komsomolskiy\n",
      "Processing : pacifica\n",
      "Processing : whitefish\n",
      "Processing : moba\n",
      "Processing : santiago del estero\n",
      "Processing : sept-iles\n",
      "Processing : salinopolis\n",
      "Processing : sao filipe\n",
      "Processing : zyryanka\n",
      "Processing : klaksvik\n",
      "Processing : dingle\n",
      "Processing : grindavik\n",
      "Processing : road town\n",
      "Processing : kiunga\n",
      "Processing : los llanos de aridane\n",
      "Processing : milkovo\n",
      "Processing : dondo\n",
      "Processing : kodiak\n",
      "Processing : billings\n",
      "Processing : piney green\n",
      "Processing : meulaboh\n",
      "Processing : paamiut\n",
      "Processing : damietta\n",
      "Processing : padang\n",
      "Processing : berberati\n",
      "Processing : treinta y tres\n",
      "Processing : belaya gora\n",
      "Processing : zhengjiatun\n",
      "Processing : gradignan\n",
      "Processing : talnakh\n",
      "Processing : westport\n",
      "Processing : esperance\n",
      "Processing : vandra\n",
      "Processing : mount gambier\n",
      "Processing : bilibino\n",
      "Processing : ahuimanu\n",
      "Processing : salekhard\n",
      "Processing : kralendijk\n",
      "Processing : suntar\n",
      "Processing : husavik\n",
      "Processing : bronnoysund\n",
      "Processing : aldan\n",
      "Processing : port hardy\n",
      "Processing : sonoita\n",
      "City not found. Skipping...\n",
      "Processing : port elizabeth\n",
      "City not found. Skipping...\n",
      "Processing : eyl\n",
      "Processing : rundu\n",
      "City not found. Skipping...\n"
     ]
    },
    {
     "name": "stdout",
     "output_type": "stream",
     "text": [
      "Processing : nalut\n",
      "Processing : codrington\n",
      "Processing : baruun-urt\n",
      "Processing : vardo\n",
      "Processing : biak\n",
      "Processing : kafue\n",
      "Processing : neopolis\n",
      "Processing : kihei\n",
      "Processing : horizontina\n",
      "Processing : inhambane\n",
      "Processing : asansol\n",
      "Processing : ereymentau\n",
      "Processing : saint george\n",
      "Processing : terra santa\n",
      "Processing : bella vista\n",
      "Processing : beringovskiy\n",
      "Processing : miyako\n",
      "Processing : samarai\n",
      "Processing : welkenraedt\n",
      "Processing : san juan\n",
      "Processing : russell\n",
      "Processing : gallup\n",
      "Processing : antofagasta\n",
      "Processing : najran\n",
      "Processing : bowen\n",
      "Processing : oliveira\n",
      "Processing : eydhafushi\n",
      "Processing : stephenville\n",
      "Processing : bambous virieux\n",
      "Processing : kahului\n",
      "Processing : kulhudhuffushi\n",
      "Processing : moose factory\n",
      "Processing : bathsheba\n",
      "Processing : gondanglegi\n",
      "Processing : bograd\n",
      "Processing : fortuna\n",
      "Processing : moron\n",
      "Processing : san carlos de bariloche\n",
      "Processing : pitimbu\n",
      "Processing : ahipara\n",
      "Processing : coquimbo\n",
      "Processing : saint-augustin\n",
      "Processing : trincomalee\n",
      "Processing : sarnia\n",
      "Processing : powell\n",
      "Processing : atar\n",
      "Processing : manga\n",
      "Processing : riverton\n",
      "Processing : torbay\n",
      "Processing : rio grande\n",
      "Processing : samus\n",
      "Processing : itarema\n",
      "City not found. Skipping...\n",
      "City not found. Skipping...\n",
      "Processing : honiara\n",
      "Processing : oktyabrskiy\n",
      "Processing : santa cruz de la palma\n",
      "Processing : tual\n",
      "Processing : traverse city\n",
      "Processing : farkhor\n",
      "Processing : poddorye\n",
      "City not found. Skipping...\n",
      "Processing : berlevag\n",
      "City not found. Skipping...\n",
      "Processing : otradnoye\n",
      "Processing : sambava\n",
      "Processing : matara\n",
      "Processing : cherskiy\n",
      "Processing : anadyr\n",
      "Processing : riyadh\n",
      "City not found. Skipping...\n",
      "Processing : axim\n",
      "Processing : sorland\n",
      "Processing : roald\n",
      "Processing : tilichiki\n",
      "Processing : bani walid\n",
      "Processing : kamphaeng phet\n",
      "Processing : alofi\n",
      "Processing : nevesinje\n",
      "City not found. Skipping...\n",
      "Processing : lagoa\n",
      "Processing : ilulissat\n",
      "Processing : dalvik\n",
      "Processing : ormara\n",
      "Processing : cachoeira do sul\n",
      "Processing : comodoro rivadavia\n",
      "Processing : palembang\n",
      "Processing : bom jesus\n",
      "Processing : havoysund\n",
      "Processing : provideniya\n",
      "Processing : santa isabel do rio negro\n",
      "Processing : bilma\n",
      "Processing : narasaraopet\n",
      "Processing : betare oya\n",
      "Processing : innisfail\n",
      "Processing : kaeo\n",
      "Processing : kirakira\n",
      "Processing : quang ngai\n",
      "Processing : lock haven\n",
      "Processing : ancud\n",
      "Processing : siderno\n",
      "Processing : baixa grande\n",
      "Processing : juneau\n",
      "Processing : north bend\n",
      "Processing : vila velha\n",
      "Processing : genhe\n",
      "Processing : clyde river\n",
      "Processing : olafsvik\n",
      "Processing : port macquarie\n",
      "City not found. Skipping...\n",
      "Processing : kongsberg\n",
      "Processing : berbera\n",
      "Processing : goure\n",
      "Processing : muzhi\n",
      "Processing : la ronge\n",
      "Processing : waipawa\n",
      "Processing : lavrentiya\n",
      "Processing : fuxin\n",
      "Processing : madison\n",
      "City not found. Skipping...\n",
      "Processing : amravati\n",
      "Processing : buritis\n",
      "Processing : mbigou\n",
      "City not found. Skipping...\n",
      "Processing : lorengau\n",
      "Processing : mumford\n",
      "Processing : huarmey\n",
      "Processing : acarau\n",
      "Processing : constitucion\n",
      "Processing : horki\n",
      "Processing : chingola\n",
      "Processing : arrifes\n",
      "Processing : norrkoping\n",
      "Processing : puerto asis\n",
      "Processing : pacific grove\n",
      "Processing : polunochnoye\n",
      "Processing : marrakesh\n",
      "City not found. Skipping...\n",
      "Processing : port moresby\n",
      "Processing : porangatu\n",
      "Processing : turmalina\n",
      "Processing : calmar\n",
      "Processing : puerto escondido\n",
      "Processing : at-bashi\n",
      "Processing : ketchikan\n",
      "Processing : vostok\n",
      "Processing : susangerd\n",
      "Processing : northam\n",
      "City not found. Skipping...\n",
      "Processing : tiznit\n",
      "Processing : tomatlan\n",
      "Processing : falam\n",
      "Processing : payo\n",
      "Processing : kachiry\n",
      "Processing : batagay-alyta\n",
      "Processing : tokat\n",
      "Processing : mandalgovi\n",
      "Processing : luderitz\n",
      "Processing : koungou\n",
      "Processing : matagami\n",
      "Processing : wahiawa\n",
      "Processing : presidente epitacio\n",
      "City not found. Skipping...\n",
      "Processing : marysville\n",
      "Processing : inuvik\n",
      "City not found. Skipping...\n",
      "Processing : svetlogorsk\n",
      "Processing : teahupoo\n",
      "Processing : upata\n",
      "Processing : buala\n",
      "Processing : jinka\n",
      "Processing : hofn\n",
      "Processing : kyra\n",
      "Processing : harsud\n",
      "Processing : thinadhoo\n",
      "Processing : sitka\n",
      "Processing : ibipeba\n",
      "Processing : ailigandi\n",
      "Processing : green river\n",
      "Processing : vondrozo\n",
      "Processing : xining\n",
      "Processing : redlands\n",
      "Processing : veraval\n",
      "City not found. Skipping...\n",
      "Processing : higueron\n",
      "Processing : sisimiut\n",
      "Processing : palmas\n",
      "City not found. Skipping...\n",
      "Processing : tandalti\n",
      "Processing : laguna\n",
      "Processing : manggar\n",
      "Processing : dharchula\n",
      "Processing : valentin gomez farias\n",
      "Processing : praya\n",
      "Processing : petropavlovsk-kamchatskiy\n",
      "Processing : praia\n",
      "Processing : mattru\n",
      "Processing : sao joao da barra\n",
      "Processing : mount isa\n",
      "Processing : dudinka\n",
      "Processing : peniche\n",
      "Processing : khani\n",
      "Processing : cody\n",
      "Processing : kieta\n",
      "City not found. Skipping...\n",
      "Processing : bereda\n",
      "Processing : gigmoto\n",
      "Processing : kasongo-lunda\n",
      "Processing : cangucu\n",
      "Processing : suez\n",
      "City not found. Skipping...\n",
      "City not found. Skipping...\n",
      "Processing : san quintin\n",
      "Processing : ngunguru\n",
      "Processing : hirna\n",
      "Processing : mahebourg\n",
      "Processing : bashtanka\n",
      "Processing : the valley\n",
      "City not found. Skipping...\n",
      "Processing : sarkand\n",
      "Processing : abonnema\n",
      "Processing : baza\n",
      "Processing : sainte-rose\n",
      "Processing : joao neiva\n",
      "Processing : champerico\n",
      "Processing : flinders\n",
      "Processing : gibara\n",
      "Processing : oistins\n",
      "Processing : havre\n",
      "Processing : makokou\n",
      "Processing : puerto princesa\n",
      "Processing : palauig\n",
      "Processing : isla mujeres\n",
      "Processing : chapleau\n",
      "Processing : bridlington\n",
      "Processing : jutai\n",
      "Processing : el alto\n",
      "Processing : ostersund\n",
      "Processing : bairiki\n",
      "Processing : colesberg\n",
      "Processing : almaznyy\n",
      "Processing : namatanai\n",
      "Processing : hobyo\n",
      "Processing : camacha\n",
      "Processing : mizdah\n",
      "Processing : lakatoro\n",
      "City not found. Skipping...\n",
      "Processing : kaputa\n",
      "Processing : aasiaat\n",
      "Processing : kedzierzyn-kozle\n",
      "Processing : san jeronimo\n",
      "City not found. Skipping...\n",
      "Processing : kutum\n",
      "City not found. Skipping...\n",
      "Processing : bastia\n",
      "----------------------------\n",
      "Data Retrieval Complete\n",
      "----------------------------\n"
     ]
    }
   ],
   "source": [
    "#OpenWeather Key\n",
    "\n",
    "units = \"Imperial\"\n",
    "\n",
    "query_url =  f\"http://api.openweathermap.org/data/2.5/weather?appid={weather_api_key}&units={units}\"\n",
    "query_url\n",
    "weather_data = []\n",
    "print(\"Beginning Data Retrieval \")\n",
    "print(\"----------------------------\")\n",
    "for city in cities:\n",
    "    city_url = query_url + \"&q=\" + city\n",
    "    response = requests.get(city_url)\n",
    "    try:\n",
    "        response_json = response.json()\n",
    "        #print(response_json)\n",
    "        lat = response_json['coord']['lat']\n",
    "        lon = response_json['coord']['lon']\n",
    "        temp_max = response_json['main']['temp_max']\n",
    "        humidity = response_json['main']['humidity']\n",
    "        cloudiness = response_json['clouds']['all']\n",
    "        wind_speed = response_json['wind']['speed']\n",
    "        country = response_json['sys']['country']\n",
    "        date = response_json['dt']\n",
    "        weather_data.append({\"City\": city,\n",
    "                    \"Lat\": lat,\n",
    "                    \"Lng\": lon,\n",
    "                    \"Max Temp\": temp_max,\n",
    "                    \"Humidity\": humidity,\n",
    "                    \"Cloudiness\": cloudiness,\n",
    "                    \"Wind Speed\": wind_speed,\n",
    "                    \"Country\": country,\n",
    "                    \"Date\": date})\n",
    "        print(f\"Processing : {city}\")\n",
    "    except:\n",
    "        print(\"City not found. Skipping...\")\n",
    "        \n",
    "print(\"----------------------------\")\n",
    "print(\"Data Retrieval Complete\")\n",
    "print(\"----------------------------\")"
   ]
  },
  {
   "cell_type": "markdown",
   "metadata": {},
   "source": [
    "### Convert Raw Data to DataFrame\n",
    "* Export the city data into a .csv.\n",
    "* Display the DataFrame"
   ]
  },
  {
   "cell_type": "code",
   "execution_count": 4,
   "metadata": {},
   "outputs": [
    {
     "data": {
      "text/plain": [
       "City          557\n",
       "Lat           557\n",
       "Lng           557\n",
       "Max Temp      557\n",
       "Humidity      557\n",
       "Cloudiness    557\n",
       "Wind Speed    557\n",
       "Country       557\n",
       "Date          557\n",
       "dtype: int64"
      ]
     },
     "execution_count": 4,
     "metadata": {},
     "output_type": "execute_result"
    }
   ],
   "source": [
    "city_data_df = pd.DataFrame(weather_data)\n",
    "city_data_df.count()"
   ]
  },
  {
   "cell_type": "code",
   "execution_count": 5,
   "metadata": {},
   "outputs": [
    {
     "data": {
      "text/html": [
       "<div>\n",
       "<style scoped>\n",
       "    .dataframe tbody tr th:only-of-type {\n",
       "        vertical-align: middle;\n",
       "    }\n",
       "\n",
       "    .dataframe tbody tr th {\n",
       "        vertical-align: top;\n",
       "    }\n",
       "\n",
       "    .dataframe thead th {\n",
       "        text-align: right;\n",
       "    }\n",
       "</style>\n",
       "<table border=\"1\" class=\"dataframe\">\n",
       "  <thead>\n",
       "    <tr style=\"text-align: right;\">\n",
       "      <th></th>\n",
       "      <th>City</th>\n",
       "      <th>Lat</th>\n",
       "      <th>Lng</th>\n",
       "      <th>Max Temp</th>\n",
       "      <th>Humidity</th>\n",
       "      <th>Cloudiness</th>\n",
       "      <th>Wind Speed</th>\n",
       "      <th>Country</th>\n",
       "      <th>Date</th>\n",
       "    </tr>\n",
       "  </thead>\n",
       "  <tbody>\n",
       "    <tr>\n",
       "      <td>0</td>\n",
       "      <td>puerto ayora</td>\n",
       "      <td>-0.74</td>\n",
       "      <td>-90.35</td>\n",
       "      <td>80.01</td>\n",
       "      <td>87</td>\n",
       "      <td>97</td>\n",
       "      <td>8.01</td>\n",
       "      <td>EC</td>\n",
       "      <td>1587606423</td>\n",
       "    </tr>\n",
       "    <tr>\n",
       "      <td>1</td>\n",
       "      <td>ushuaia</td>\n",
       "      <td>-54.80</td>\n",
       "      <td>-68.30</td>\n",
       "      <td>39.20</td>\n",
       "      <td>64</td>\n",
       "      <td>100</td>\n",
       "      <td>8.05</td>\n",
       "      <td>AR</td>\n",
       "      <td>1587606510</td>\n",
       "    </tr>\n",
       "    <tr>\n",
       "      <td>2</td>\n",
       "      <td>jamestown</td>\n",
       "      <td>42.10</td>\n",
       "      <td>-79.24</td>\n",
       "      <td>32.00</td>\n",
       "      <td>81</td>\n",
       "      <td>90</td>\n",
       "      <td>8.05</td>\n",
       "      <td>US</td>\n",
       "      <td>1587606425</td>\n",
       "    </tr>\n",
       "    <tr>\n",
       "      <td>3</td>\n",
       "      <td>busselton</td>\n",
       "      <td>-33.65</td>\n",
       "      <td>115.33</td>\n",
       "      <td>70.00</td>\n",
       "      <td>62</td>\n",
       "      <td>94</td>\n",
       "      <td>5.84</td>\n",
       "      <td>AU</td>\n",
       "      <td>1587606517</td>\n",
       "    </tr>\n",
       "    <tr>\n",
       "      <td>4</td>\n",
       "      <td>georgiyevskoye</td>\n",
       "      <td>58.73</td>\n",
       "      <td>45.02</td>\n",
       "      <td>25.56</td>\n",
       "      <td>92</td>\n",
       "      <td>100</td>\n",
       "      <td>11.25</td>\n",
       "      <td>RU</td>\n",
       "      <td>1587606517</td>\n",
       "    </tr>\n",
       "  </tbody>\n",
       "</table>\n",
       "</div>"
      ],
      "text/plain": [
       "             City    Lat     Lng  Max Temp  Humidity  Cloudiness  Wind Speed  \\\n",
       "0    puerto ayora  -0.74  -90.35     80.01        87          97        8.01   \n",
       "1         ushuaia -54.80  -68.30     39.20        64         100        8.05   \n",
       "2       jamestown  42.10  -79.24     32.00        81          90        8.05   \n",
       "3       busselton -33.65  115.33     70.00        62          94        5.84   \n",
       "4  georgiyevskoye  58.73   45.02     25.56        92         100       11.25   \n",
       "\n",
       "  Country        Date  \n",
       "0      EC  1587606423  \n",
       "1      AR  1587606510  \n",
       "2      US  1587606425  \n",
       "3      AU  1587606517  \n",
       "4      RU  1587606517  "
      ]
     },
     "execution_count": 5,
     "metadata": {},
     "output_type": "execute_result"
    }
   ],
   "source": [
    "city_data_df.head()"
   ]
  },
  {
   "cell_type": "code",
   "execution_count": 6,
   "metadata": {},
   "outputs": [
    {
     "data": {
      "text/html": [
       "<div>\n",
       "<style scoped>\n",
       "    .dataframe tbody tr th:only-of-type {\n",
       "        vertical-align: middle;\n",
       "    }\n",
       "\n",
       "    .dataframe tbody tr th {\n",
       "        vertical-align: top;\n",
       "    }\n",
       "\n",
       "    .dataframe thead th {\n",
       "        text-align: right;\n",
       "    }\n",
       "</style>\n",
       "<table border=\"1\" class=\"dataframe\">\n",
       "  <thead>\n",
       "    <tr style=\"text-align: right;\">\n",
       "      <th></th>\n",
       "      <th>Lat</th>\n",
       "      <th>Lng</th>\n",
       "      <th>Max Temp</th>\n",
       "      <th>Humidity</th>\n",
       "      <th>Cloudiness</th>\n",
       "      <th>Wind Speed</th>\n",
       "      <th>Date</th>\n",
       "    </tr>\n",
       "  </thead>\n",
       "  <tbody>\n",
       "    <tr>\n",
       "      <td>count</td>\n",
       "      <td>557.000000</td>\n",
       "      <td>557.000000</td>\n",
       "      <td>557.000000</td>\n",
       "      <td>557.000000</td>\n",
       "      <td>557.000000</td>\n",
       "      <td>557.000000</td>\n",
       "      <td>5.570000e+02</td>\n",
       "    </tr>\n",
       "    <tr>\n",
       "      <td>mean</td>\n",
       "      <td>19.587487</td>\n",
       "      <td>12.267343</td>\n",
       "      <td>61.065476</td>\n",
       "      <td>68.761221</td>\n",
       "      <td>53.213645</td>\n",
       "      <td>7.653573</td>\n",
       "      <td>1.587607e+09</td>\n",
       "    </tr>\n",
       "    <tr>\n",
       "      <td>std</td>\n",
       "      <td>32.841909</td>\n",
       "      <td>90.780228</td>\n",
       "      <td>19.730388</td>\n",
       "      <td>22.684782</td>\n",
       "      <td>38.709850</td>\n",
       "      <td>5.558983</td>\n",
       "      <td>6.403900e+01</td>\n",
       "    </tr>\n",
       "    <tr>\n",
       "      <td>min</td>\n",
       "      <td>-54.800000</td>\n",
       "      <td>-179.170000</td>\n",
       "      <td>5.000000</td>\n",
       "      <td>9.000000</td>\n",
       "      <td>0.000000</td>\n",
       "      <td>0.270000</td>\n",
       "      <td>1.587606e+09</td>\n",
       "    </tr>\n",
       "    <tr>\n",
       "      <td>25%</td>\n",
       "      <td>-8.350000</td>\n",
       "      <td>-64.620000</td>\n",
       "      <td>45.370000</td>\n",
       "      <td>57.000000</td>\n",
       "      <td>10.000000</td>\n",
       "      <td>3.670000</td>\n",
       "      <td>1.587607e+09</td>\n",
       "    </tr>\n",
       "    <tr>\n",
       "      <td>50%</td>\n",
       "      <td>21.400000</td>\n",
       "      <td>15.790000</td>\n",
       "      <td>64.400000</td>\n",
       "      <td>75.000000</td>\n",
       "      <td>58.000000</td>\n",
       "      <td>6.150000</td>\n",
       "      <td>1.587607e+09</td>\n",
       "    </tr>\n",
       "    <tr>\n",
       "      <td>75%</td>\n",
       "      <td>47.120000</td>\n",
       "      <td>81.820000</td>\n",
       "      <td>77.650000</td>\n",
       "      <td>86.000000</td>\n",
       "      <td>90.000000</td>\n",
       "      <td>10.290000</td>\n",
       "      <td>1.587607e+09</td>\n",
       "    </tr>\n",
       "    <tr>\n",
       "      <td>max</td>\n",
       "      <td>78.220000</td>\n",
       "      <td>179.320000</td>\n",
       "      <td>98.190000</td>\n",
       "      <td>100.000000</td>\n",
       "      <td>100.000000</td>\n",
       "      <td>35.570000</td>\n",
       "      <td>1.587607e+09</td>\n",
       "    </tr>\n",
       "  </tbody>\n",
       "</table>\n",
       "</div>"
      ],
      "text/plain": [
       "              Lat         Lng    Max Temp    Humidity  Cloudiness  Wind Speed  \\\n",
       "count  557.000000  557.000000  557.000000  557.000000  557.000000  557.000000   \n",
       "mean    19.587487   12.267343   61.065476   68.761221   53.213645    7.653573   \n",
       "std     32.841909   90.780228   19.730388   22.684782   38.709850    5.558983   \n",
       "min    -54.800000 -179.170000    5.000000    9.000000    0.000000    0.270000   \n",
       "25%     -8.350000  -64.620000   45.370000   57.000000   10.000000    3.670000   \n",
       "50%     21.400000   15.790000   64.400000   75.000000   58.000000    6.150000   \n",
       "75%     47.120000   81.820000   77.650000   86.000000   90.000000   10.290000   \n",
       "max     78.220000  179.320000   98.190000  100.000000  100.000000   35.570000   \n",
       "\n",
       "               Date  \n",
       "count  5.570000e+02  \n",
       "mean   1.587607e+09  \n",
       "std    6.403900e+01  \n",
       "min    1.587606e+09  \n",
       "25%    1.587607e+09  \n",
       "50%    1.587607e+09  \n",
       "75%    1.587607e+09  \n",
       "max    1.587607e+09  "
      ]
     },
     "execution_count": 6,
     "metadata": {},
     "output_type": "execute_result"
    }
   ],
   "source": [
    "city_data_df.describe()"
   ]
  },
  {
   "cell_type": "code",
   "execution_count": 7,
   "metadata": {},
   "outputs": [],
   "source": [
    "city_data_df.to_csv(output_data_file, index_label='City_ID')"
   ]
  },
  {
   "cell_type": "markdown",
   "metadata": {},
   "source": [
    "## Inspect the data and remove the cities where the humidity > 100%.\n",
    "----\n",
    "Skip this step if there are no cities that have humidity > 100%. "
   ]
  },
  {
   "cell_type": "code",
   "execution_count": 7,
   "metadata": {},
   "outputs": [
    {
     "data": {
      "text/plain": [
       "Int64Index([], dtype='int64')"
      ]
     },
     "execution_count": 7,
     "metadata": {},
     "output_type": "execute_result"
    }
   ],
   "source": [
    "#  Get the indices of cities that have humidity over 100%.\n"
   ]
  },
  {
   "cell_type": "code",
   "execution_count": 8,
   "metadata": {},
   "outputs": [
    {
     "data": {
      "text/html": [
       "<div>\n",
       "<style scoped>\n",
       "    .dataframe tbody tr th:only-of-type {\n",
       "        vertical-align: middle;\n",
       "    }\n",
       "\n",
       "    .dataframe tbody tr th {\n",
       "        vertical-align: top;\n",
       "    }\n",
       "\n",
       "    .dataframe thead th {\n",
       "        text-align: right;\n",
       "    }\n",
       "</style>\n",
       "<table border=\"1\" class=\"dataframe\">\n",
       "  <thead>\n",
       "    <tr style=\"text-align: right;\">\n",
       "      <th></th>\n",
       "      <th>City</th>\n",
       "      <th>Lat</th>\n",
       "      <th>Lng</th>\n",
       "      <th>Max Temp</th>\n",
       "      <th>Humidity</th>\n",
       "      <th>Cloudiness</th>\n",
       "      <th>Wind Speed</th>\n",
       "      <th>Country</th>\n",
       "      <th>Date</th>\n",
       "    </tr>\n",
       "  </thead>\n",
       "  <tbody>\n",
       "    <tr>\n",
       "      <th>0</th>\n",
       "      <td>pimentel</td>\n",
       "      <td>-6.84</td>\n",
       "      <td>-79.93</td>\n",
       "      <td>66.20</td>\n",
       "      <td>29</td>\n",
       "      <td>75</td>\n",
       "      <td>5.82</td>\n",
       "      <td>PE</td>\n",
       "      <td>1585764415</td>\n",
       "    </tr>\n",
       "    <tr>\n",
       "      <th>1</th>\n",
       "      <td>victoria</td>\n",
       "      <td>22.29</td>\n",
       "      <td>114.16</td>\n",
       "      <td>69.01</td>\n",
       "      <td>88</td>\n",
       "      <td>40</td>\n",
       "      <td>18.34</td>\n",
       "      <td>HK</td>\n",
       "      <td>1585764288</td>\n",
       "    </tr>\n",
       "    <tr>\n",
       "      <th>2</th>\n",
       "      <td>padang</td>\n",
       "      <td>-0.95</td>\n",
       "      <td>100.35</td>\n",
       "      <td>79.90</td>\n",
       "      <td>75</td>\n",
       "      <td>99</td>\n",
       "      <td>1.63</td>\n",
       "      <td>ID</td>\n",
       "      <td>1585764115</td>\n",
       "    </tr>\n",
       "    <tr>\n",
       "      <th>3</th>\n",
       "      <td>hasaki</td>\n",
       "      <td>35.73</td>\n",
       "      <td>140.83</td>\n",
       "      <td>55.00</td>\n",
       "      <td>100</td>\n",
       "      <td>75</td>\n",
       "      <td>4.70</td>\n",
       "      <td>JP</td>\n",
       "      <td>1585764415</td>\n",
       "    </tr>\n",
       "    <tr>\n",
       "      <th>4</th>\n",
       "      <td>kahului</td>\n",
       "      <td>20.89</td>\n",
       "      <td>-156.47</td>\n",
       "      <td>70.00</td>\n",
       "      <td>88</td>\n",
       "      <td>1</td>\n",
       "      <td>7.63</td>\n",
       "      <td>US</td>\n",
       "      <td>1585764415</td>\n",
       "    </tr>\n",
       "  </tbody>\n",
       "</table>\n",
       "</div>"
      ],
      "text/plain": [
       "       City    Lat     Lng  Max Temp  Humidity  Cloudiness  Wind Speed  \\\n",
       "0  pimentel  -6.84  -79.93     66.20        29          75        5.82   \n",
       "1  victoria  22.29  114.16     69.01        88          40       18.34   \n",
       "2    padang  -0.95  100.35     79.90        75          99        1.63   \n",
       "3    hasaki  35.73  140.83     55.00       100          75        4.70   \n",
       "4   kahului  20.89 -156.47     70.00        88           1        7.63   \n",
       "\n",
       "  Country        Date  \n",
       "0      PE  1585764415  \n",
       "1      HK  1585764288  \n",
       "2      ID  1585764115  \n",
       "3      JP  1585764415  \n",
       "4      US  1585764415  "
      ]
     },
     "execution_count": 8,
     "metadata": {},
     "output_type": "execute_result"
    }
   ],
   "source": [
    "# Make a new DataFrame equal to the city data to drop all humidity outliers by index.\n",
    "# Passing \"inplace=False\" will make a copy of the city_data DataFrame, which we call \"clean_city_data\".\n"
   ]
  },
  {
   "cell_type": "code",
   "execution_count": 9,
   "metadata": {},
   "outputs": [],
   "source": [
    "# Extract relevant fields from the data frame\n",
    "\n",
    "\n",
    "# Export the City_Data into a csv\n"
   ]
  },
  {
   "cell_type": "markdown",
   "metadata": {},
   "source": [
    "## Plotting the Data\n",
    "* Use proper labeling of the plots using plot titles (including date of analysis) and axes labels.\n",
    "* Save the plotted figures as .pngs."
   ]
  },
  {
   "cell_type": "markdown",
   "metadata": {},
   "source": [
    "## Latitude vs. Temperature Plot"
   ]
  },
  {
   "cell_type": "code",
   "execution_count": 8,
   "metadata": {
    "scrolled": true
   },
   "outputs": [
    {
     "data": {
      "image/png": "[encoded data removed]",
      "text/plain": [
       "<Figure size 432x288 with 1 Axes>"
      ]
     },
     "metadata": {
      "needs_background": "light"
     },
     "output_type": "display_data"
    }
   ],
   "source": [
    "#Create a Scatter Plot for Lattitude vs Temperature of City\n",
    "plt.scatter(city_data_df[\"Lat\"], city_data_df[\"Max Temp\"], marker='o',s=30, edgecolors= \"black\")\n",
    "plt.title(\"City Latitude vs Max Temperature\")\n",
    "\n",
    "plt.ylim(0,100)\n",
    "plt.xlim(-60, 80)\n",
    "\n",
    "plt.ylabel(\"Max. Temperature (F)\")\n",
    "plt.xlabel(\"Latitude\")\n",
    "plt.grid()\n",
    "# plt.show()\n",
    "\n",
    "plt.savefig(\"LAT VS TEMP.png\")"
   ]
  },
  {
   "cell_type": "markdown",
   "metadata": {},
   "source": [
    "## Latitude vs. Humidity Plot"
   ]
  },
  {
   "cell_type": "code",
   "execution_count": 9,
   "metadata": {},
   "outputs": [
    {
     "data": {
      "image/png": "[encoded data removed]",
      "text/plain": [
       "<Figure size 432x288 with 1 Axes>"
      ]
     },
     "metadata": {
      "needs_background": "light"
     },
     "output_type": "display_data"
    }
   ],
   "source": [
    "#Create a Scatter Plot for Lattitude vs Humidity\n",
    "plt.scatter(city_data_df[\"Lat\"], city_data_df[\"Humidity\"], marker='o', s=30, edgecolors= \"black\")\n",
    "plt.title(\"City Latitude vs Humidity\")\n",
    "plt.ylabel(\"Humidity Level (%)\")\n",
    "plt.xlabel(\"Latitude\")\n",
    "plt.grid()\n",
    "# plt.show()\n",
    "\n",
    "plt.savefig('LAT VS HUM.png')"
   ]
  },
  {
   "cell_type": "markdown",
   "metadata": {},
   "source": [
    "## Latitude vs. Cloudiness Plot"
   ]
  },
  {
   "cell_type": "code",
   "execution_count": 10,
   "metadata": {},
   "outputs": [
    {
     "data": {
      "image/png": "[encoded data removed]",
      "text/plain": [
       "<Figure size 432x288 with 1 Axes>"
      ]
     },
     "metadata": {
      "needs_background": "light"
     },
     "output_type": "display_data"
    }
   ],
   "source": [
    "#Create a Scatter Plot for Lattitude vs Cloudiness\n",
    "plt.scatter(city_data_df[\"Lat\"], city_data_df[\"Cloudiness\"], marker='o', s=30, edgecolors= \"black\")\n",
    "plt.title(\"City Latitude vs Cloudiness\")\n",
    "plt.ylabel(\"Cloudiness Level (%)\")\n",
    "plt.xlabel(\"Latitude\")\n",
    "plt.grid()\n",
    "# plt.show()\n",
    "\n",
    "plt.savefig('LAT VS CLOUD.png')"
   ]
  },
  {
   "cell_type": "markdown",
   "metadata": {},
   "source": [
    "## Latitude vs. Wind Speed Plot"
   ]
  },
  {
   "cell_type": "code",
   "execution_count": 11,
   "metadata": {},
   "outputs": [
    {
     "data": {
      "image/png": "[encoded data removed]",
      "text/plain": [
       "<Figure size 432x288 with 1 Axes>"
      ]
     },
     "metadata": {
      "needs_background": "light"
     },
     "output_type": "display_data"
    }
   ],
   "source": [
    "#Create a Scatter Plot for Lattitude vs WindSpeed\n",
    "plt.scatter(city_data_df[\"Lat\"], city_data_df[\"Wind Speed\"], marker='o', s=30, edgecolors= \"black\")\n",
    "plt.title(\"City Latitude vs Wind Speed\")\n",
    "plt.ylabel(\"Wind Speed (mph)\")\n",
    "plt.xlabel(\"Latitude\")\n",
    "plt.grid()\n",
    "# plt.show()\n",
    "\n",
    "plt.savefig('LAT VS WIND.png')"
   ]
  },
  {
   "cell_type": "markdown",
   "metadata": {},
   "source": [
    "## Linear Regression"
   ]
  },
  {
   "cell_type": "code",
   "execution_count": 12,
   "metadata": {},
   "outputs": [],
   "source": [
    "# OPTIONAL: Create a function to create Linear Regression plots\n",
    "def linear_reg(x_values,y_values,feature,xy_coord,x_lim,y_lim):\n",
    "    (slope, intercept, rvalue, pvalue, stderr) = linregress(x_values, y_values)\n",
    "    regress_values = x_values * slope + intercept\n",
    "    line_eq = \"y = \" + str(round(slope,2)) + \"x + \" + str(round(intercept,2))\n",
    "    print(f\"R squared: {rvalue**2}\")\n",
    "    plt.scatter(x_values,y_values)\n",
    "    plt.plot(x_values,regress_values,\"red\")\n",
    "    plt.annotate(line_eq,xy_coord,fontsize=15,color=\"red\")\n",
    "    plt.ylim(y_lim)\n",
    "    plt.xlim(x_lim)\n",
    "    plt.ylabel(feature)\n",
    "    plt.xlabel('Latitude')\n",
    "   "
   ]
  },
  {
   "cell_type": "code",
   "execution_count": 13,
   "metadata": {},
   "outputs": [
    {
     "name": "stdout",
     "output_type": "stream",
     "text": [
      "             City    Lat    Lng  Max Temp  Humidity  Cloudiness  Wind Speed  \\\n",
      "2       jamestown  42.10 -79.24     32.00        81          90        8.05   \n",
      "4  georgiyevskoye  58.73  45.02     25.56        92         100       11.25   \n",
      "5          bethel  41.37 -73.41     43.00        32           1        5.82   \n",
      "7         kamenka  51.32  42.77     32.00        88           8        1.99   \n",
      "9        vorokhta  48.29  24.57     33.64        67           9        1.25   \n",
      "\n",
      "  Country        Date  \n",
      "2      US  1587606425  \n",
      "4      RU  1587606517  \n",
      "5      US  1587606259  \n",
      "7      RU  1587606518  \n",
      "9      UA  1587606518  \n"
     ]
    },
    {
     "data": {
      "text/html": [
       "<div>\n",
       "<style scoped>\n",
       "    .dataframe tbody tr th:only-of-type {\n",
       "        vertical-align: middle;\n",
       "    }\n",
       "\n",
       "    .dataframe tbody tr th {\n",
       "        vertical-align: top;\n",
       "    }\n",
       "\n",
       "    .dataframe thead th {\n",
       "        text-align: right;\n",
       "    }\n",
       "</style>\n",
       "<table border=\"1\" class=\"dataframe\">\n",
       "  <thead>\n",
       "    <tr style=\"text-align: right;\">\n",
       "      <th></th>\n",
       "      <th>City</th>\n",
       "      <th>Lat</th>\n",
       "      <th>Lng</th>\n",
       "      <th>Max Temp</th>\n",
       "      <th>Humidity</th>\n",
       "      <th>Cloudiness</th>\n",
       "      <th>Wind Speed</th>\n",
       "      <th>Country</th>\n",
       "      <th>Date</th>\n",
       "    </tr>\n",
       "  </thead>\n",
       "  <tbody>\n",
       "    <tr>\n",
       "      <td>0</td>\n",
       "      <td>puerto ayora</td>\n",
       "      <td>-0.74</td>\n",
       "      <td>-90.35</td>\n",
       "      <td>80.01</td>\n",
       "      <td>87</td>\n",
       "      <td>97</td>\n",
       "      <td>8.01</td>\n",
       "      <td>EC</td>\n",
       "      <td>1587606423</td>\n",
       "    </tr>\n",
       "    <tr>\n",
       "      <td>1</td>\n",
       "      <td>ushuaia</td>\n",
       "      <td>-54.80</td>\n",
       "      <td>-68.30</td>\n",
       "      <td>39.20</td>\n",
       "      <td>64</td>\n",
       "      <td>100</td>\n",
       "      <td>8.05</td>\n",
       "      <td>AR</td>\n",
       "      <td>1587606510</td>\n",
       "    </tr>\n",
       "    <tr>\n",
       "      <td>3</td>\n",
       "      <td>busselton</td>\n",
       "      <td>-33.65</td>\n",
       "      <td>115.33</td>\n",
       "      <td>70.00</td>\n",
       "      <td>62</td>\n",
       "      <td>94</td>\n",
       "      <td>5.84</td>\n",
       "      <td>AU</td>\n",
       "      <td>1587606517</td>\n",
       "    </tr>\n",
       "    <tr>\n",
       "      <td>6</td>\n",
       "      <td>bluff</td>\n",
       "      <td>-46.60</td>\n",
       "      <td>168.33</td>\n",
       "      <td>59.00</td>\n",
       "      <td>68</td>\n",
       "      <td>74</td>\n",
       "      <td>3.00</td>\n",
       "      <td>NZ</td>\n",
       "      <td>1587606518</td>\n",
       "    </tr>\n",
       "    <tr>\n",
       "      <td>8</td>\n",
       "      <td>sao miguel do araguaia</td>\n",
       "      <td>-13.28</td>\n",
       "      <td>-50.16</td>\n",
       "      <td>71.20</td>\n",
       "      <td>86</td>\n",
       "      <td>2</td>\n",
       "      <td>2.06</td>\n",
       "      <td>BR</td>\n",
       "      <td>1587606518</td>\n",
       "    </tr>\n",
       "  </tbody>\n",
       "</table>\n",
       "</div>"
      ],
      "text/plain": [
       "                     City    Lat     Lng  Max Temp  Humidity  Cloudiness  \\\n",
       "0            puerto ayora  -0.74  -90.35     80.01        87          97   \n",
       "1                 ushuaia -54.80  -68.30     39.20        64         100   \n",
       "3               busselton -33.65  115.33     70.00        62          94   \n",
       "6                   bluff -46.60  168.33     59.00        68          74   \n",
       "8  sao miguel do araguaia -13.28  -50.16     71.20        86           2   \n",
       "\n",
       "   Wind Speed Country        Date  \n",
       "0        8.01      EC  1587606423  \n",
       "1        8.05      AR  1587606510  \n",
       "3        5.84      AU  1587606517  \n",
       "6        3.00      NZ  1587606518  \n",
       "8        2.06      BR  1587606518  "
      ]
     },
     "execution_count": 13,
     "metadata": {},
     "output_type": "execute_result"
    }
   ],
   "source": [
    "# Create Northern and Southern Hemisphere DataFrames\n",
    "\n",
    "northern_hemisphere = city_data_df.loc[city_data_df[\"Lat\"]>0.01]\n",
    "southern_hemisphere = city_data_df.loc[city_data_df[\"Lat\"]<-0.01]\n",
    "\n",
    "print(northern_hemisphere.head())\n",
    "southern_hemisphere.head()"
   ]
  },
  {
   "cell_type": "markdown",
   "metadata": {},
   "source": [
    "####  Northern Hemisphere - Max Temp vs. Latitude Linear Regression"
   ]
  },
  {
   "cell_type": "code",
   "execution_count": 14,
   "metadata": {},
   "outputs": [
    {
     "name": "stdout",
     "output_type": "stream",
     "text": [
      "R squared: 0.7467057507188528\n"
     ]
    },
    {
     "data": {
      "image/png": "[encoded data removed]",
      "text/plain": [
       "<Figure size 432x288 with 1 Axes>"
      ]
     },
     "metadata": {
      "needs_background": "light"
     },
     "output_type": "display_data"
    }
   ],
   "source": [
    "#Create a Scatter Plot for Lattitude vs Temperature of City\n",
    "x_values = northern_hemisphere['Lat']\n",
    "#print(x_values)\n",
    "y_values = northern_hemisphere['Max Temp']\n",
    "#print(y_values)\n",
    "xy_coord = (5,10)\n",
    "x_lim = (0,80)\n",
    "y_lim = (0,100)\n",
    "linear_reg(x_values,y_values,'Max Temp',xy_coord,x_lim,y_lim)\n",
    "plt.savefig(\"NORTH MAX TEMP VS LAT.png\")\n"
   ]
  },
  {
   "cell_type": "markdown",
   "metadata": {},
   "source": [
    "####  Southern Hemisphere - Max Temp vs. Latitude Linear Regression"
   ]
  },
  {
   "cell_type": "code",
   "execution_count": 15,
   "metadata": {},
   "outputs": [
    {
     "name": "stdout",
     "output_type": "stream",
     "text": [
      "R squared: 0.4387721658542592\n"
     ]
    },
    {
     "data": {
      "image/png": "[encoded data removed]",
      "text/plain": [
       "<Figure size 432x288 with 1 Axes>"
      ]
     },
     "metadata": {
      "needs_background": "light"
     },
     "output_type": "display_data"
    }
   ],
   "source": [
    "#Create a Scatter Plot for Lattitude vs Temperature of City (Southern Hemisphere)\n",
    "x_values = southern_hemisphere['Lat']\n",
    "#print(x_values)\n",
    "y_values = southern_hemisphere['Max Temp']\n",
    "#print(y_values)\n",
    "xy_coord = (6,10)\n",
    "x_lim = (-60,10)\n",
    "y_lim = (30,100)\n",
    "linear_reg(x_values,y_values,'Max Temp',xy_coord,x_lim,y_lim)\n",
    "plt.savefig(\"SOUTH MAX TEMP VS LAT.png\")"
   ]
  },
  {
   "cell_type": "markdown",
   "metadata": {},
   "source": [
    "####  Northern Hemisphere - Humidity (%) vs. Latitude Linear Regression"
   ]
  },
  {
   "cell_type": "code",
   "execution_count": 16,
   "metadata": {},
   "outputs": [
    {
     "name": "stdout",
     "output_type": "stream",
     "text": [
      "R squared: 0.04168337413036706\n"
     ]
    },
    {
     "data": {
      "image/png": "[encoded data removed]",
      "text/plain": [
       "<Figure size 432x288 with 1 Axes>"
      ]
     },
     "metadata": {
      "needs_background": "light"
     },
     "output_type": "display_data"
    }
   ],
   "source": [
    "x_values = northern_hemisphere['Lat']\n",
    "#print(x_values)\n",
    "y_values = northern_hemisphere['Humidity']\n",
    "#print(y_values)\n",
    "xy_coord = (6,10)\n",
    "x_lim = (-5,80)\n",
    "y_lim = (20,110)\n",
    "linear_reg(x_values,y_values,'Humidity',xy_coord,x_lim,y_lim)\n",
    "\n",
    "plt.savefig(\"NORTH HUM VS LAT.png\")"
   ]
  },
  {
   "cell_type": "markdown",
   "metadata": {},
   "source": [
    "####  Southern Hemisphere - Humidity (%) vs. Latitude Linear Regression"
   ]
  },
  {
   "cell_type": "code",
   "execution_count": 17,
   "metadata": {},
   "outputs": [
    {
     "name": "stdout",
     "output_type": "stream",
     "text": [
      "R squared: 0.0006323275585074296\n"
     ]
    },
    {
     "data": {
      "image/png": "[encoded data removed]",
      "text/plain": [
       "<Figure size 432x288 with 1 Axes>"
      ]
     },
     "metadata": {
      "needs_background": "light"
     },
     "output_type": "display_data"
    }
   ],
   "source": [
    "x_values = southern_hemisphere['Lat']\n",
    "#print(x_values)\n",
    "y_values = southern_hemisphere['Humidity']\n",
    "#print(y_values)\n",
    "xy_coord = (-25,10)\n",
    "x_lim = (-60,5)\n",
    "y_lim = (0,100)\n",
    "linear_reg(x_values,y_values,'Humidity',xy_coord,x_lim,y_lim)\n",
    "\n",
    "plt.savefig(\"NORTH HUM VS LAT.png\")"
   ]
  },
  {
   "cell_type": "markdown",
   "metadata": {},
   "source": [
    "####  Northern Hemisphere - Cloudiness (%) vs. Latitude Linear Regression"
   ]
  },
  {
   "cell_type": "code",
   "execution_count": 18,
   "metadata": {},
   "outputs": [
    {
     "name": "stdout",
     "output_type": "stream",
     "text": [
      "R squared: 0.011840292880215113\n"
     ]
    },
    {
     "data": {
      "image/png": "[encoded data removed]",
      "text/plain": [
       "<Figure size 432x288 with 1 Axes>"
      ]
     },
     "metadata": {
      "needs_background": "light"
     },
     "output_type": "display_data"
    }
   ],
   "source": [
    "x_values = northern_hemisphere['Lat']\n",
    "#print(x_values)\n",
    "y_values = northern_hemisphere['Cloudiness']\n",
    "#print(y_values)\n",
    "xy_coord = (6,10)\n",
    "x_lim = (0,80)\n",
    "y_lim = (-5,110)\n",
    "linear_reg(x_values,y_values,'Cloudiness',xy_coord,x_lim,y_lim)\n",
    "plt.savefig(\"NORTH CLOUD VS LAT.png\")"
   ]
  },
  {
   "cell_type": "markdown",
   "metadata": {},
   "source": [
    "####  Southern Hemisphere - Cloudiness (%) vs. Latitude Linear Regression"
   ]
  },
  {
   "cell_type": "code",
   "execution_count": 19,
   "metadata": {},
   "outputs": [
    {
     "name": "stdout",
     "output_type": "stream",
     "text": [
      "R squared: 0.0035342247015465347\n"
     ]
    },
    {
     "data": {
      "image/png": "[encoded data removed]",
      "text/plain": [
       "<Figure size 432x288 with 1 Axes>"
      ]
     },
     "metadata": {
      "needs_background": "light"
     },
     "output_type": "display_data"
    }
   ],
   "source": [
    "x_values = southern_hemisphere['Lat']\n",
    "#print(x_values)\n",
    "y_values = southern_hemisphere['Cloudiness']\n",
    "#print(y_values)\n",
    "xy_coord = (-25,10)\n",
    "x_lim = (-50,5)\n",
    "y_lim = (-5,110)\n",
    "linear_reg(x_values,y_values,'Cloudiness',xy_coord,x_lim,y_lim)\n",
    "plt.savefig(\"SOUTH CLOUD VS LAT.png\")"
   ]
  },
  {
   "cell_type": "markdown",
   "metadata": {},
   "source": [
    "####  Northern Hemisphere - Wind Speed (mph) vs. Latitude Linear Regression"
   ]
  },
  {
   "cell_type": "code",
   "execution_count": 20,
   "metadata": {},
   "outputs": [
    {
     "name": "stdout",
     "output_type": "stream",
     "text": [
      "R squared: 0.059563545646834616\n"
     ]
    },
    {
     "data": {
      "image/png": "[encoded data removed]",
      "text/plain": [
       "<Figure size 432x288 with 1 Axes>"
      ]
     },
     "metadata": {
      "needs_background": "light"
     },
     "output_type": "display_data"
    }
   ],
   "source": [
    "x_values = northern_hemisphere['Lat']\n",
    "#print(x_values)\n",
    "y_values = northern_hemisphere['Wind Speed']\n",
    "#print(y_values)\n",
    "xy_coord = (45,22)\n",
    "x_lim = (0,80)\n",
    "y_lim = (0,40)\n",
    "linear_reg(x_values,y_values,'Humidity',xy_coord,x_lim,y_lim)\n",
    "\n",
    "plt.savefig(\"NORTH WIND VS LAT.png\")"
   ]
  },
  {
   "cell_type": "markdown",
   "metadata": {},
   "source": [
    "####  Southern Hemisphere - Wind Speed (mph) vs. Latitude Linear Regression"
   ]
  },
  {
   "cell_type": "code",
   "execution_count": 21,
   "metadata": {},
   "outputs": [
    {
     "name": "stdout",
     "output_type": "stream",
     "text": [
      "R squared: 0.059563545646834616\n"
     ]
    },
    {
     "data": {
      "image/png": "[encoded data removed]",
      "text/plain": [
       "<Figure size 432x288 with 1 Axes>"
      ]
     },
     "metadata": {
      "needs_background": "light"
     },
     "output_type": "display_data"
    }
   ],
   "source": [
    "x_values = northern_hemisphere['Lat']\n",
    "#print(x_values)\n",
    "y_values = northern_hemisphere['Wind Speed']\n",
    "#print(y_values)\n",
    "xy_coord = (-10,25)\n",
    "x_lim = (-5,80)\n",
    "y_lim = (0,20)\n",
    "linear_reg(x_values,y_values,'Wind Speed',xy_coord,x_lim,y_lim)\n",
    "\n",
    "plt.savefig(\"NORTH HUM VS LAT.png\")"
   ]
  },
  {
   "cell_type": "code",
   "execution_count": null,
   "metadata": {},
   "outputs": [],
   "source": []
  }
 ],
 "metadata": {
  "anaconda-cloud": {},
  "kernel_info": {
   "name": "python3"
  },
  "kernelspec": {
   "display_name": "Python 3",
   "language": "python",
   "name": "python3"
  },
  "language_info": {
   "codemirror_mode": {
    "name": "ipython",
    "version": 3
   },
   "file_extension": ".py",
   "mimetype": "text/x-python",
   "name": "python",
   "nbconvert_exporter": "python",
   "pygments_lexer": "ipython3",
   "version": "3.7.4"
  },
  "latex_envs": {
   "LaTeX_envs_menu_present": true,
   "autoclose": false,
   "autocomplete": true,
   "bibliofile": "biblio.bib",
   "cite_by": "apalike",
   "current_citInitial": 1,
   "eqLabelWithNumbers": true,
   "eqNumInitial": 1,
   "hotkeys": {
    "equation": "Ctrl-E",
    "itemize": "Ctrl-I"
   },
   "labels_anchors": false,
   "latex_user_defs": false,
   "report_style_numbering": false,
   "user_envs_cfg": false
  },
  "nteract": {
   "version": "0.12.3"
  }
 },
 "nbformat": 4,
 "nbformat_minor": 2
}
