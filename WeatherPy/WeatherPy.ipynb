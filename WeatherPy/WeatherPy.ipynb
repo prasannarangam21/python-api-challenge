{
 "cells": [
  {
   "cell_type": "markdown",
   "metadata": {},
   "source": [
    "# Analysis and Considerations \n",
    "\n",
    "1)Visualization analysis of weather in 500+ cities at different latitudes relative to the equator line. The visualizations show temperature, humidity, cloudiness, wind speed using OpenWeatherMap API and Citypy module.\n",
    "2)The temperature increases as we approach the equator. However, temperature peaks at around some degrees latitude, not exactly at the equatorial line. This may be due to the Earth's tilt in the axis known as obliquity.\n",
    "3)Cloudiness and humidity do not show a strong correlation to latitude. The visualizations below show a great variety of values at similar latitudes.\n",
    "4)Wind speed appears to slightly increase as we move away from the equator. We would need to go beyond the range to examine and to make a definitive conclusion.\n",
    "5)From the visualizations , we can conclude temperature seems to have a clear correlation with latitude.\n",
    "6)The southern hemisphere tends to be warmer than the northern hemisphere.\n",
    "7)There is no strong co relationship for latitude with cloudiness, humidity and wind speed."
   ]
  },
  {
   "cell_type": "markdown",
   "metadata": {},
   "source": [
    "# WeatherPy\n",
    "----\n",
    "\n",
    "#### Note\n",
    "* Instructions have been included for each segment. You do not have to follow them exactly, but they are included to help you think through the steps."
   ]
  },
  {
   "cell_type": "code",
   "execution_count": 2,
   "metadata": {
    "scrolled": true
   },
   "outputs": [],
   "source": [
    "# Dependencies and Setup\n",
    "import matplotlib.pyplot as plt\n",
    "import pandas as pd\n",
    "import numpy as np\n",
    "import requests\n",
    "import csv\n",
    "import time\n",
    "from scipy.stats import linregress\n",
    "\n",
    "# Import API key\n",
    "from api_keys import weather_api_key\n",
    "\n",
    "# Incorporated citipy to determine city based on latitude and longitude\n",
    "from citipy import citipy\n",
    "\n",
    "# Output File (CSV)\n",
    "output_data_file = \"../output_data/cities.csv\"\n",
    "\n",
    "# Range of latitudes and longitudes\n",
    "lat_range = (-90, 90)\n",
    "lng_range = (-180, 180)"
   ]
  },
  {
   "cell_type": "markdown",
   "metadata": {},
   "source": [
    "## Generate Cities List"
   ]
  },
  {
   "cell_type": "code",
   "execution_count": 3,
   "metadata": {},
   "outputs": [
    {
     "data": {
      "text/plain": [
       "599"
      ]
     },
     "execution_count": 3,
     "metadata": {},
     "output_type": "execute_result"
    }
   ],
   "source": [
    "# List for holding lat_lngs and cities\n",
    "lat_lngs = []\n",
    "cities = []\n",
    "\n",
    "# Create a set of random lat and lng combinations\n",
    "lats = np.random.uniform(low=-90.000, high=90.000, size=1500)\n",
    "lngs = np.random.uniform(low=-180.000, high=180.000, size=1500)\n",
    "lat_lngs = zip(lats, lngs)\n",
    "\n",
    "# Identify nearest city for each lat, lng combination\n",
    "for lat_lng in lat_lngs:\n",
    "    city = citipy.nearest_city(lat_lng[0], lat_lng[1]).city_name\n",
    "    \n",
    "    # If the city is unique, then add it to a our cities list\n",
    "    if city not in cities:\n",
    "        cities.append(city)\n",
    "    \n",
    "# Print the city count to confirm sufficient count\n",
    "len(cities)"
   ]
  },
  {
   "cell_type": "markdown",
   "metadata": {},
   "source": [
    "### Perform API Calls\n",
    "* Perform a weather check on each city using a series of successive API calls.\n",
    "* Include a print log of each city as it'sbeing processed (with the city number and city name).\n"
   ]
  },
  {
   "cell_type": "code",
   "execution_count": 5,
   "metadata": {},
   "outputs": [
    {
     "name": "stdout",
     "output_type": "stream",
     "text": [
      "Beginning Data Retrieval \n",
      "----------------------------\n",
      "Processing : komsomolskiy\n",
      "Processing : muros\n",
      "Processing : east london\n",
      "Processing : amahai\n",
      "Processing : cascais\n",
      "Processing : mataura\n",
      "City not found. Skipping...\n",
      "Processing : avarua\n",
      "Processing : hilo\n",
      "City not found. Skipping...\n",
      "Processing : yokadouma\n",
      "Processing : namibe\n",
      "City not found. Skipping...\n",
      "Processing : rawson\n",
      "Processing : walker\n",
      "Processing : arraial do cabo\n",
      "Processing : albany\n",
      "Processing : butaritari\n",
      "City not found. Skipping...\n",
      "Processing : cherskiy\n",
      "Processing : aswan\n",
      "Processing : altay\n",
      "Processing : leh\n",
      "City not found. Skipping...\n",
      "Processing : hithadhoo\n",
      "City not found. Skipping...\n",
      "Processing : padang\n",
      "City not found. Skipping...\n",
      "Processing : port alfred\n",
      "Processing : ushuaia\n",
      "Processing : kapaa\n",
      "Processing : bredasdorp\n",
      "Processing : okitipupa\n",
      "Processing : thompson\n",
      "Processing : punta arenas\n",
      "Processing : atuona\n",
      "Processing : rikitea\n",
      "Processing : olafsvik\n",
      "Processing : kapit\n",
      "Processing : vila franca do campo\n",
      "Processing : shelburne\n",
      "Processing : mar del plata\n",
      "Processing : beloha\n",
      "Processing : norman wells\n",
      "Processing : pijijiapan\n",
      "Processing : aripuana\n",
      "Processing : surt\n",
      "Processing : chifeng\n",
      "City not found. Skipping...\n",
      "Processing : bluff\n",
      "Processing : jamestown\n",
      "City not found. Skipping...\n",
      "Processing : huarmey\n",
      "Processing : busselton\n",
      "Processing : aykhal\n",
      "Processing : leningradskiy\n",
      "Processing : takoradi\n",
      "Processing : airai\n",
      "Processing : cape town\n",
      "Processing : port blair\n",
      "Processing : limbang\n",
      "Processing : ilawa\n",
      "Processing : tasiilaq\n",
      "City not found. Skipping...\n",
      "Processing : vila velha\n",
      "Processing : fairbanks\n",
      "Processing : mahebourg\n",
      "Processing : paracuru\n",
      "Processing : port elizabeth\n",
      "Processing : lompoc\n",
      "Processing : blytheville\n",
      "Processing : lasa\n",
      "Processing : wakkanai\n",
      "Processing : evensk\n",
      "Processing : dingle\n",
      "Processing : lagoa\n",
      "Processing : tarko-sale\n",
      "Processing : saldanha\n",
      "Processing : hermanus\n",
      "Processing : bontang\n",
      "Processing : hami\n",
      "Processing : saint-augustin\n",
      "Processing : guerrero negro\n",
      "Processing : amos\n",
      "Processing : mokhotlong\n",
      "Processing : hengshui\n",
      "Processing : najran\n",
      "Processing : vaini\n",
      "Processing : balabac\n",
      "Processing : labuhan\n",
      "Processing : kedrovyy\n",
      "Processing : policoro\n",
      "Processing : anadyr\n",
      "Processing : monte alegre\n",
      "Processing : vestmanna\n",
      "Processing : hobart\n",
      "Processing : paysandu\n",
      "Processing : lillers\n",
      "Processing : ust-ishim\n",
      "City not found. Skipping...\n",
      "Processing : comodoro rivadavia\n",
      "Processing : lufilufi\n",
      "Processing : marsaxlokk\n",
      "City not found. Skipping...\n",
      "Processing : georgetown\n",
      "Processing : jining\n",
      "Processing : dikson\n",
      "Processing : ponta do sol\n",
      "City not found. Skipping...\n",
      "Processing : chicama\n",
      "Processing : soyo\n",
      "Processing : estelle\n",
      "Processing : saint-philippe\n",
      "Processing : san patricio\n",
      "Processing : zyryanka\n",
      "Processing : new norfolk\n",
      "Processing : flinders\n",
      "Processing : castro\n",
      "Processing : uyuni\n",
      "Processing : amga\n",
      "Processing : ipiau\n",
      "Processing : dryden\n",
      "Processing : soron\n",
      "Processing : broome\n",
      "Processing : iqaluit\n",
      "Processing : dakar\n",
      "Processing : barrow\n",
      "Processing : kununurra\n",
      "City not found. Skipping...\n",
      "Processing : ribeira grande\n",
      "Processing : urumqi\n",
      "Processing : puerto ayora\n",
      "Processing : lata\n",
      "Processing : yanam\n",
      "Processing : bambous virieux\n",
      "City not found. Skipping...\n",
      "Processing : ilulissat\n",
      "Processing : isakly\n",
      "Processing : strib\n",
      "Processing : buraydah\n",
      "Processing : ucluelet\n",
      "Processing : klaksvik\n",
      "Processing : daru\n",
      "Processing : torbay\n",
      "Processing : lalmohan\n",
      "Processing : killin\n",
      "Processing : mitchell\n",
      "Processing : khatanga\n",
      "Processing : meulaboh\n",
      "Processing : chervonohryhorivka\n",
      "Processing : malanville\n",
      "Processing : tateyama\n",
      "Processing : honiara\n",
      "Processing : tucuman\n",
      "Processing : fushe-arrez\n",
      "Processing : portland\n",
      "Processing : provideniya\n",
      "Processing : geraldton\n",
      "Processing : mangai\n",
      "Processing : pathein\n",
      "Processing : montes altos\n",
      "Processing : sitka\n",
      "Processing : alofi\n",
      "Processing : qasigiannguit\n",
      "Processing : qaanaaq\n",
      "Processing : westport\n",
      "City not found. Skipping...\n",
      "Processing : nouadhibou\n",
      "Processing : naifaru\n",
      "Processing : luganville\n",
      "Processing : chuy\n",
      "Processing : vanimo\n",
      "Processing : victoria\n",
      "Processing : vigrestad\n",
      "Processing : xining\n",
      "Processing : the valley\n",
      "Processing : byron bay\n",
      "Processing : astara\n",
      "Processing : ferkessedougou\n",
      "Processing : ayan\n",
      "Processing : abu kamal\n",
      "Processing : cidreira\n",
      "Processing : port hardy\n",
      "Processing : vilyuysk\n",
      "City not found. Skipping...\n",
      "Processing : harlingen\n",
      "Processing : rocha\n",
      "Processing : la ronge\n",
      "Processing : sarangani\n",
      "Processing : rafai\n",
      "Processing : isangel\n",
      "Processing : asau\n",
      "Processing : nemuro\n",
      "Processing : bardiyah\n",
      "Processing : mandapeta\n",
      "Processing : majene\n",
      "Processing : pokosnoye\n",
      "Processing : homer\n",
      "Processing : vestmannaeyjar\n",
      "Processing : saquena\n",
      "Processing : alyangula\n",
      "Processing : san quintin\n",
      "Processing : pisco\n",
      "Processing : chokurdakh\n",
      "Processing : houston\n",
      "Processing : saint-louis\n",
      "Processing : methoni\n",
      "Processing : nome\n",
      "City not found. Skipping...\n",
      "Processing : makakilo city\n",
      "Processing : taoudenni\n",
      "Processing : carnarvon\n",
      "Processing : yuanping\n",
      "Processing : rajgarh\n",
      "Processing : clyde river\n",
      "Processing : lebu\n",
      "Processing : berbera\n",
      "Processing : nyamati\n",
      "Processing : shingu\n",
      "Processing : powell river\n",
      "Processing : elat\n",
      "Processing : kodiak\n",
      "Processing : souillac\n",
      "Processing : san policarpo\n",
      "Processing : tautira\n",
      "Processing : esperance\n",
      "Processing : gastonia\n",
      "Processing : bethel\n",
      "Processing : tayoltita\n",
      "Processing : vao\n",
      "Processing : maceio\n",
      "Processing : caravelas\n",
      "Processing : nanortalik\n",
      "Processing : yellowknife\n",
      "Processing : bengkulu\n",
      "Processing : ust-koksa\n",
      "Processing : kaputa\n",
      "Processing : crotone\n",
      "Processing : sangar\n",
      "City not found. Skipping...\n",
      "Processing : jianhu\n",
      "Processing : bonthe\n",
      "City not found. Skipping...\n",
      "Processing : mindelo\n",
      "City not found. Skipping...\n",
      "Processing : ciudad bolivar\n",
      "Processing : madisonville\n",
      "Processing : narsaq\n",
      "Processing : port moresby\n",
      "Processing : upernavik\n",
      "Processing : porto novo\n",
      "Processing : salalah\n",
      "Processing : springfield\n",
      "Processing : beloostrov\n",
      "Processing : attingal\n",
      "Processing : caxito\n",
      "Processing : kaitangata\n",
      "Processing : lorengau\n",
      "Processing : veisiejai\n",
      "Processing : husavik\n",
      "Processing : lubao\n",
      "City not found. Skipping...\n",
      "Processing : chaihe\n",
      "Processing : serenje\n",
      "Processing : hirara\n",
      "Processing : le port\n",
      "Processing : bagdarin\n",
      "Processing : petrozavodsk\n",
      "Processing : saskylakh\n",
      "Processing : mareeba\n",
      "Processing : nerchinskiy zavod\n",
      "Processing : odesskoye\n",
      "City not found. Skipping...\n",
      "Processing : tiksi\n",
      "Processing : waipawa\n",
      "Processing : rudbar\n",
      "Processing : grand gaube\n",
      "Processing : sao joao da barra\n",
      "City not found. Skipping...\n",
      "Processing : cockburn town\n",
      "Processing : outlook\n",
      "Processing : sioux lookout\n",
      "Processing : palma di montechiaro\n",
      "Processing : nago\n",
      "Processing : balkhash\n",
      "Processing : toamasina\n",
      "Processing : pozhva\n",
      "Processing : yerbogachen\n",
      "Processing : carauari\n",
      "Processing : tuktoyaktuk\n",
      "Processing : greenville\n",
      "Processing : odlabari\n",
      "Processing : horsham\n",
      "Processing : hargeysa\n",
      "Processing : derzhavinsk\n",
      "Processing : mount isa\n",
      "Processing : kukes\n",
      "Processing : chateaubelair\n",
      "Processing : san juan\n",
      "Processing : lavrentiya\n",
      "Processing : san miguel\n",
      "Processing : irbit\n",
      "Processing : severo-kurilsk\n",
      "Processing : vuktyl\n",
      "Processing : ishigaki\n",
      "Processing : eyl\n",
      "Processing : goma\n",
      "Processing : voh\n",
      "Processing : havre-saint-pierre\n",
      "Processing : kalmunai\n",
      "Processing : wadi maliz\n",
      "Processing : hofn\n",
      "Processing : antofagasta\n",
      "Processing : mamallapuram\n",
      "Processing : sobolevo\n",
      "Processing : prince george\n",
      "Processing : sartana\n",
      "Processing : lugovoy\n",
      "Processing : ararat\n",
      "Processing : uromi\n",
      "Processing : kuala lumpur\n",
      "Processing : bahia honda\n",
      "Processing : umm kaddadah\n",
      "Processing : kahului\n",
      "Processing : raga\n",
      "Processing : besikduzu\n",
      "Processing : sao filipe\n",
      "Processing : supe\n",
      "Processing : nang rong\n",
      "Processing : sawakin\n",
      "Processing : tecoanapa\n",
      "Processing : iquitos\n",
      "Processing : kirakira\n",
      "Processing : manokwari\n",
      "Processing : kavieng\n",
      "Processing : codrington\n",
      "Processing : santa cruz\n",
      "City not found. Skipping...\n",
      "Processing : nikolskoye\n",
      "City not found. Skipping...\n",
      "Processing : requena\n",
      "Processing : moose factory\n",
      "Processing : chumikan\n",
      "Processing : howard springs\n",
      "Processing : kruisfontein\n",
      "Processing : carutapera\n",
      "Processing : yamada\n",
      "Processing : san benito\n",
      "Processing : faanui\n",
      "Processing : lyuban\n",
      "Processing : tual\n",
      "Processing : kavaratti\n",
      "Processing : hasaki\n",
      "Processing : quelimane\n",
      "Processing : pangai\n",
      "Processing : sokoni\n",
      "Processing : shimoda\n",
      "Processing : kidal\n",
      "Processing : neyshabur\n",
      "Processing : teguise\n",
      "Processing : isparta\n"
     ]
    },
    {
     "name": "stdout",
     "output_type": "stream",
     "text": [
      "Processing : flin flon\n",
      "Processing : ornskoldsvik\n",
      "Processing : banyo\n",
      "Processing : bud\n",
      "Processing : santiago del estero\n",
      "Processing : heilbron\n",
      "Processing : katsuura\n",
      "Processing : ranong\n",
      "Processing : eyemouth\n",
      "Processing : talara\n",
      "Processing : tuatapere\n",
      "Processing : haines junction\n",
      "Processing : prince rupert\n",
      "City not found. Skipping...\n",
      "Processing : yulara\n",
      "City not found. Skipping...\n",
      "Processing : makasar\n",
      "Processing : muzaffarabad\n",
      "Processing : luanda\n",
      "Processing : panacan\n",
      "Processing : genova\n",
      "Processing : saint-pierre\n",
      "Processing : tarime\n",
      "City not found. Skipping...\n",
      "Processing : rio grande\n",
      "Processing : moerai\n",
      "Processing : solnechnyy\n",
      "Processing : ixtapa\n",
      "Processing : ancud\n",
      "Processing : cabo san lucas\n",
      "Processing : kropotkin\n",
      "Processing : maralal\n",
      "City not found. Skipping...\n",
      "Processing : bathsheba\n",
      "Processing : saint george\n",
      "Processing : punta alta\n",
      "City not found. Skipping...\n",
      "Processing : zhezkazgan\n",
      "Processing : tondano\n",
      "Processing : bantry\n",
      "Processing : paamiut\n",
      "Processing : vagur\n",
      "Processing : buta\n",
      "Processing : gazanjyk\n",
      "Processing : richards bay\n",
      "Processing : hamilton\n",
      "Processing : vardo\n",
      "Processing : huilong\n",
      "Processing : novo aripuana\n",
      "Processing : college\n",
      "Processing : dubbo\n",
      "Processing : atar\n",
      "Processing : cayenne\n",
      "Processing : cervo\n",
      "Processing : la rochelle\n",
      "Processing : talaya\n",
      "Processing : barabai\n",
      "Processing : ulaanbaatar\n",
      "City not found. Skipping...\n",
      "City not found. Skipping...\n",
      "Processing : fortuna\n",
      "Processing : dekar\n",
      "Processing : funadhoo\n",
      "Processing : kyzyl-suu\n",
      "Processing : morgan city\n",
      "Processing : coquimbo\n",
      "Processing : ambovombe\n",
      "Processing : abancay\n",
      "City not found. Skipping...\n",
      "Processing : shache\n",
      "Processing : phayakkhaphum phisai\n",
      "Processing : shenjiamen\n",
      "Processing : eenhana\n",
      "Processing : puerto ayacucho\n",
      "Processing : rwamagana\n",
      "Processing : cuiluan\n",
      "Processing : minuri\n",
      "Processing : pierre\n",
      "Processing : bandarbeyla\n",
      "Processing : seminole\n",
      "Processing : peoria\n",
      "Processing : nor geghi\n",
      "Processing : dhidhdhoo\n",
      "Processing : necocli\n",
      "Processing : vyartsilya\n",
      "Processing : krasnyy oktyabr\n",
      "Processing : tadine\n",
      "City not found. Skipping...\n",
      "Processing : wanning\n",
      "Processing : darnah\n",
      "Processing : jeremie\n",
      "Processing : opuwo\n",
      "Processing : beringovskiy\n",
      "City not found. Skipping...\n",
      "Processing : half moon bay\n",
      "Processing : inhambane\n",
      "Processing : innisfail\n",
      "Processing : bubaque\n",
      "Processing : kushima\n",
      "Processing : upington\n",
      "Processing : manavalakurichi\n",
      "Processing : montevideo\n",
      "Processing : ahipara\n",
      "Processing : jacqueville\n",
      "Processing : srandakan\n",
      "Processing : amapa\n",
      "Processing : port hedland\n",
      "Processing : vzmorye\n",
      "Processing : nishihara\n",
      "Processing : burnie\n",
      "Processing : oriximina\n",
      "Processing : kamaishi\n",
      "Processing : tigil\n",
      "City not found. Skipping...\n",
      "Processing : batemans bay\n",
      "Processing : sao gabriel da cachoeira\n",
      "Processing : biak\n",
      "Processing : miraflores\n",
      "Processing : mitsamiouli\n",
      "Processing : taksimo\n",
      "Processing : port hueneme\n",
      "Processing : dukat\n",
      "Processing : coihaique\n",
      "Processing : fukue\n",
      "Processing : pevek\n",
      "Processing : kosh-agach\n",
      "City not found. Skipping...\n",
      "Processing : port-gentil\n",
      "Processing : masalli\n",
      "Processing : ondangwa\n",
      "Processing : soe\n",
      "Processing : talnakh\n",
      "Processing : minsk\n",
      "Processing : tilichiki\n",
      "Processing : lafiagi\n",
      "Processing : hay river\n",
      "Processing : buritis\n",
      "Processing : acapulco\n",
      "Processing : luderitz\n",
      "Processing : libres\n",
      "Processing : usinsk\n",
      "City not found. Skipping...\n",
      "Processing : tocopilla\n",
      "Processing : xuddur\n",
      "Processing : kenora\n",
      "Processing : denpasar\n",
      "Processing : naze\n",
      "Processing : ingham\n",
      "Processing : machaneng\n",
      "City not found. Skipping...\n",
      "Processing : ifakara\n",
      "Processing : prado\n",
      "City not found. Skipping...\n",
      "Processing : sept-iles\n",
      "Processing : copiapo\n",
      "Processing : luwingu\n",
      "Processing : gorele\n",
      "City not found. Skipping...\n",
      "Processing : pouebo\n",
      "Processing : carmelo\n",
      "Processing : dharchula\n",
      "Processing : kelvington\n",
      "Processing : wagar\n",
      "Processing : matagami\n",
      "City not found. Skipping...\n",
      "Processing : grindavik\n",
      "Processing : straumen\n",
      "Processing : gondanglegi\n",
      "Processing : oparino\n",
      "Processing : roald\n",
      "Processing : los llanos de aridane\n",
      "City not found. Skipping...\n",
      "Processing : ust-kulom\n",
      "Processing : bilibino\n",
      "Processing : ilo\n",
      "Processing : hambantota\n",
      "City not found. Skipping...\n",
      "Processing : lewistown\n",
      "Processing : jalu\n",
      "Processing : marawi\n",
      "Processing : aklavik\n",
      "Processing : saint-joseph\n",
      "Processing : moron\n",
      "Processing : prainha\n",
      "Processing : harrismith\n",
      "Processing : ndjole\n",
      "Processing : ayorou\n",
      "Processing : jumla\n",
      "Processing : pangody\n",
      "Processing : caraguatatuba\n",
      "Processing : nola\n",
      "Processing : abong mbang\n",
      "Processing : kingsport\n",
      "Processing : barra\n",
      "Processing : hovd\n",
      "Processing : mukhen\n",
      "Processing : adrar\n",
      "Processing : yar-sale\n",
      "Processing : buchanan\n",
      "Processing : anaconda\n",
      "Processing : ouallam\n",
      "Processing : arlit\n",
      "Processing : bluefields\n",
      "Processing : ust-kuyga\n",
      "Processing : ust-omchug\n",
      "Processing : babstovo\n",
      "Processing : boguchany\n",
      "Processing : sao gabriel\n",
      "Processing : sinnamary\n",
      "Processing : gigmoto\n",
      "Processing : pimentel\n",
      "Processing : helong\n",
      "Processing : zonguldak\n",
      "Processing : dawlatabad\n",
      "Processing : mwinilunga\n",
      "Processing : katobu\n",
      "Processing : ormara\n",
      "Processing : goderich\n",
      "Processing : birin\n",
      "Processing : brae\n",
      "Processing : faya\n",
      "Processing : kiunga\n",
      "Processing : olmos\n",
      "Processing : buala\n",
      "Processing : ballangen\n",
      "Processing : east stroudsburg\n",
      "City not found. Skipping...\n",
      "Processing : petropavlovsk-kamchatskiy\n",
      "Processing : conakry\n",
      "Processing : silver city\n",
      "Processing : cabanas\n",
      "Processing : chishtian mandi\n",
      "Processing : tyukhtet\n",
      "Processing : habiganj\n",
      "Processing : zheleznodorozhnyy\n",
      "Processing : gat\n",
      "Processing : stettler\n",
      "Processing : yuzhne\n",
      "----------------------------\n",
      "Data Retrieval Complete\n",
      "----------------------------\n"
     ]
    }
   ],
   "source": [
    "#OpenWeather Key\n",
    "\n",
    "units = \"Imperial\"\n",
    "\n",
    "query_url =  f\"http://api.openweathermap.org/data/2.5/weather?appid={weather_api_key}&units={units}\"\n",
    "query_url\n",
    "weather_data = []\n",
    "print(\"Beginning Data Retrieval \")\n",
    "print(\"----------------------------\")\n",
    "for city in cities:\n",
    "    city_url = query_url + \"&q=\" + city\n",
    "    response = requests.get(city_url)\n",
    "    try:\n",
    "        response_json = response.json()\n",
    "        #print(response_json)\n",
    "        lat = response_json['coord']['lat']\n",
    "        lon = response_json['coord']['lon']\n",
    "        temp_max = response_json['main']['temp_max']\n",
    "        humidity = response_json['main']['humidity']\n",
    "        cloudiness = response_json['clouds']['all']\n",
    "        wind_speed = response_json['wind']['speed']\n",
    "        country = response_json['sys']['country']\n",
    "        date = response_json['dt']\n",
    "        weather_data.append({\"City\": city,\n",
    "                    \"Lat\": lat,\n",
    "                    \"Lng\": lon,\n",
    "                    \"Max Temp\": temp_max,\n",
    "                    \"Humidity\": humidity,\n",
    "                    \"Cloudiness\": cloudiness,\n",
    "                    \"Wind Speed\": wind_speed,\n",
    "                    \"Country\": country,\n",
    "                    \"Date\": date})\n",
    "        print(f\"Processing : {city}\")\n",
    "    except:\n",
    "        print(\"City not found. Skipping...\")\n",
    "        \n",
    "print(\"----------------------------\")\n",
    "print(\"Data Retrieval Complete\")\n",
    "print(\"----------------------------\")"
   ]
  },
  {
   "cell_type": "markdown",
   "metadata": {},
   "source": [
    "### Convert Raw Data to DataFrame\n",
    "* Export the city data into a .csv.\n",
    "* Display the DataFrame"
   ]
  },
  {
   "cell_type": "code",
   "execution_count": 6,
   "metadata": {},
   "outputs": [
    {
     "data": {
      "text/plain": [
       "City          553\n",
       "Lat           553\n",
       "Lng           553\n",
       "Max Temp      553\n",
       "Humidity      553\n",
       "Cloudiness    553\n",
       "Wind Speed    553\n",
       "Country       553\n",
       "Date          553\n",
       "dtype: int64"
      ]
     },
     "execution_count": 6,
     "metadata": {},
     "output_type": "execute_result"
    }
   ],
   "source": [
    "city_data_df = pd.DataFrame(weather_data)\n",
    "city_data_df.count()"
   ]
  },
  {
   "cell_type": "code",
   "execution_count": 7,
   "metadata": {},
   "outputs": [
    {
     "data": {
      "text/html": [
       "<div>\n",
       "<style scoped>\n",
       "    .dataframe tbody tr th:only-of-type {\n",
       "        vertical-align: middle;\n",
       "    }\n",
       "\n",
       "    .dataframe tbody tr th {\n",
       "        vertical-align: top;\n",
       "    }\n",
       "\n",
       "    .dataframe thead th {\n",
       "        text-align: right;\n",
       "    }\n",
       "</style>\n",
       "<table border=\"1\" class=\"dataframe\">\n",
       "  <thead>\n",
       "    <tr style=\"text-align: right;\">\n",
       "      <th></th>\n",
       "      <th>City</th>\n",
       "      <th>Lat</th>\n",
       "      <th>Lng</th>\n",
       "      <th>Max Temp</th>\n",
       "      <th>Humidity</th>\n",
       "      <th>Cloudiness</th>\n",
       "      <th>Wind Speed</th>\n",
       "      <th>Country</th>\n",
       "      <th>Date</th>\n",
       "    </tr>\n",
       "  </thead>\n",
       "  <tbody>\n",
       "    <tr>\n",
       "      <td>0</td>\n",
       "      <td>komsomolskiy</td>\n",
       "      <td>40.43</td>\n",
       "      <td>71.72</td>\n",
       "      <td>64.40</td>\n",
       "      <td>52</td>\n",
       "      <td>100</td>\n",
       "      <td>4.70</td>\n",
       "      <td>UZ</td>\n",
       "      <td>1587774471</td>\n",
       "    </tr>\n",
       "    <tr>\n",
       "      <td>1</td>\n",
       "      <td>muros</td>\n",
       "      <td>42.78</td>\n",
       "      <td>-9.06</td>\n",
       "      <td>57.00</td>\n",
       "      <td>89</td>\n",
       "      <td>82</td>\n",
       "      <td>1.01</td>\n",
       "      <td>ES</td>\n",
       "      <td>1587774471</td>\n",
       "    </tr>\n",
       "    <tr>\n",
       "      <td>2</td>\n",
       "      <td>east london</td>\n",
       "      <td>-33.02</td>\n",
       "      <td>27.91</td>\n",
       "      <td>66.61</td>\n",
       "      <td>83</td>\n",
       "      <td>79</td>\n",
       "      <td>11.18</td>\n",
       "      <td>ZA</td>\n",
       "      <td>1587774472</td>\n",
       "    </tr>\n",
       "    <tr>\n",
       "      <td>3</td>\n",
       "      <td>amahai</td>\n",
       "      <td>-3.33</td>\n",
       "      <td>128.92</td>\n",
       "      <td>83.50</td>\n",
       "      <td>73</td>\n",
       "      <td>76</td>\n",
       "      <td>2.51</td>\n",
       "      <td>ID</td>\n",
       "      <td>1587774472</td>\n",
       "    </tr>\n",
       "    <tr>\n",
       "      <td>4</td>\n",
       "      <td>cascais</td>\n",
       "      <td>38.70</td>\n",
       "      <td>-9.42</td>\n",
       "      <td>59.00</td>\n",
       "      <td>82</td>\n",
       "      <td>40</td>\n",
       "      <td>4.70</td>\n",
       "      <td>PT</td>\n",
       "      <td>1587774472</td>\n",
       "    </tr>\n",
       "  </tbody>\n",
       "</table>\n",
       "</div>"
      ],
      "text/plain": [
       "           City    Lat     Lng  Max Temp  Humidity  Cloudiness  Wind Speed  \\\n",
       "0  komsomolskiy  40.43   71.72     64.40        52         100        4.70   \n",
       "1         muros  42.78   -9.06     57.00        89          82        1.01   \n",
       "2   east london -33.02   27.91     66.61        83          79       11.18   \n",
       "3        amahai  -3.33  128.92     83.50        73          76        2.51   \n",
       "4       cascais  38.70   -9.42     59.00        82          40        4.70   \n",
       "\n",
       "  Country        Date  \n",
       "0      UZ  1587774471  \n",
       "1      ES  1587774471  \n",
       "2      ZA  1587774472  \n",
       "3      ID  1587774472  \n",
       "4      PT  1587774472  "
      ]
     },
     "execution_count": 7,
     "metadata": {},
     "output_type": "execute_result"
    }
   ],
   "source": [
    "city_data_df.head()"
   ]
  },
  {
   "cell_type": "code",
   "execution_count": 8,
   "metadata": {},
   "outputs": [
    {
     "data": {
      "text/html": [
       "<div>\n",
       "<style scoped>\n",
       "    .dataframe tbody tr th:only-of-type {\n",
       "        vertical-align: middle;\n",
       "    }\n",
       "\n",
       "    .dataframe tbody tr th {\n",
       "        vertical-align: top;\n",
       "    }\n",
       "\n",
       "    .dataframe thead th {\n",
       "        text-align: right;\n",
       "    }\n",
       "</style>\n",
       "<table border=\"1\" class=\"dataframe\">\n",
       "  <thead>\n",
       "    <tr style=\"text-align: right;\">\n",
       "      <th></th>\n",
       "      <th>Lat</th>\n",
       "      <th>Lng</th>\n",
       "      <th>Max Temp</th>\n",
       "      <th>Humidity</th>\n",
       "      <th>Cloudiness</th>\n",
       "      <th>Wind Speed</th>\n",
       "      <th>Date</th>\n",
       "    </tr>\n",
       "  </thead>\n",
       "  <tbody>\n",
       "    <tr>\n",
       "      <td>count</td>\n",
       "      <td>553.000000</td>\n",
       "      <td>553.000000</td>\n",
       "      <td>553.000000</td>\n",
       "      <td>553.000000</td>\n",
       "      <td>553.000000</td>\n",
       "      <td>553.000000</td>\n",
       "      <td>5.530000e+02</td>\n",
       "    </tr>\n",
       "    <tr>\n",
       "      <td>mean</td>\n",
       "      <td>19.519928</td>\n",
       "      <td>19.105407</td>\n",
       "      <td>61.861646</td>\n",
       "      <td>68.741410</td>\n",
       "      <td>49.989150</td>\n",
       "      <td>8.034919</td>\n",
       "      <td>1.587775e+09</td>\n",
       "    </tr>\n",
       "    <tr>\n",
       "      <td>std</td>\n",
       "      <td>32.365138</td>\n",
       "      <td>91.011788</td>\n",
       "      <td>19.269329</td>\n",
       "      <td>21.180471</td>\n",
       "      <td>36.833742</td>\n",
       "      <td>5.107076</td>\n",
       "      <td>6.947587e+01</td>\n",
       "    </tr>\n",
       "    <tr>\n",
       "      <td>min</td>\n",
       "      <td>-54.800000</td>\n",
       "      <td>-175.200000</td>\n",
       "      <td>-0.400000</td>\n",
       "      <td>1.000000</td>\n",
       "      <td>0.000000</td>\n",
       "      <td>0.470000</td>\n",
       "      <td>1.587774e+09</td>\n",
       "    </tr>\n",
       "    <tr>\n",
       "      <td>25%</td>\n",
       "      <td>-6.880000</td>\n",
       "      <td>-63.060000</td>\n",
       "      <td>48.000000</td>\n",
       "      <td>57.000000</td>\n",
       "      <td>16.000000</td>\n",
       "      <td>4.380000</td>\n",
       "      <td>1.587775e+09</td>\n",
       "    </tr>\n",
       "    <tr>\n",
       "      <td>50%</td>\n",
       "      <td>21.460000</td>\n",
       "      <td>24.430000</td>\n",
       "      <td>64.760000</td>\n",
       "      <td>73.000000</td>\n",
       "      <td>45.000000</td>\n",
       "      <td>6.930000</td>\n",
       "      <td>1.587775e+09</td>\n",
       "    </tr>\n",
       "    <tr>\n",
       "      <td>75%</td>\n",
       "      <td>47.170000</td>\n",
       "      <td>100.350000</td>\n",
       "      <td>78.800000</td>\n",
       "      <td>86.000000</td>\n",
       "      <td>90.000000</td>\n",
       "      <td>10.710000</td>\n",
       "      <td>1.587775e+09</td>\n",
       "    </tr>\n",
       "    <tr>\n",
       "      <td>max</td>\n",
       "      <td>77.480000</td>\n",
       "      <td>179.320000</td>\n",
       "      <td>95.340000</td>\n",
       "      <td>100.000000</td>\n",
       "      <td>100.000000</td>\n",
       "      <td>29.970000</td>\n",
       "      <td>1.587775e+09</td>\n",
       "    </tr>\n",
       "  </tbody>\n",
       "</table>\n",
       "</div>"
      ],
      "text/plain": [
       "              Lat         Lng    Max Temp    Humidity  Cloudiness  Wind Speed  \\\n",
       "count  553.000000  553.000000  553.000000  553.000000  553.000000  553.000000   \n",
       "mean    19.519928   19.105407   61.861646   68.741410   49.989150    8.034919   \n",
       "std     32.365138   91.011788   19.269329   21.180471   36.833742    5.107076   \n",
       "min    -54.800000 -175.200000   -0.400000    1.000000    0.000000    0.470000   \n",
       "25%     -6.880000  -63.060000   48.000000   57.000000   16.000000    4.380000   \n",
       "50%     21.460000   24.430000   64.760000   73.000000   45.000000    6.930000   \n",
       "75%     47.170000  100.350000   78.800000   86.000000   90.000000   10.710000   \n",
       "max     77.480000  179.320000   95.340000  100.000000  100.000000   29.970000   \n",
       "\n",
       "               Date  \n",
       "count  5.530000e+02  \n",
       "mean   1.587775e+09  \n",
       "std    6.947587e+01  \n",
       "min    1.587774e+09  \n",
       "25%    1.587775e+09  \n",
       "50%    1.587775e+09  \n",
       "75%    1.587775e+09  \n",
       "max    1.587775e+09  "
      ]
     },
     "execution_count": 8,
     "metadata": {},
     "output_type": "execute_result"
    }
   ],
   "source": [
    "city_data_df.describe()"
   ]
  },
  {
   "cell_type": "code",
   "execution_count": 9,
   "metadata": {},
   "outputs": [],
   "source": [
    "city_data_df.to_csv(output_data_file, index_label='City_ID')"
   ]
  },
  {
   "cell_type": "markdown",
   "metadata": {},
   "source": [
    "## Inspect the data and remove the cities where the humidity > 100%.\n",
    "----\n",
    "Skip this step if there are no cities that have humidity > 100%. "
   ]
  },
  {
   "cell_type": "code",
   "execution_count": 7,
   "metadata": {},
   "outputs": [
    {
     "data": {
      "text/plain": [
       "Int64Index([], dtype='int64')"
      ]
     },
     "execution_count": 7,
     "metadata": {},
     "output_type": "execute_result"
    }
   ],
   "source": [
    "#  Get the indices of cities that have humidity over 100%.\n"
   ]
  },
  {
   "cell_type": "code",
   "execution_count": 8,
   "metadata": {},
   "outputs": [
    {
     "data": {
      "text/html": [
       "<div>\n",
       "<style scoped>\n",
       "    .dataframe tbody tr th:only-of-type {\n",
       "        vertical-align: middle;\n",
       "    }\n",
       "\n",
       "    .dataframe tbody tr th {\n",
       "        vertical-align: top;\n",
       "    }\n",
       "\n",
       "    .dataframe thead th {\n",
       "        text-align: right;\n",
       "    }\n",
       "</style>\n",
       "<table border=\"1\" class=\"dataframe\">\n",
       "  <thead>\n",
       "    <tr style=\"text-align: right;\">\n",
       "      <th></th>\n",
       "      <th>City</th>\n",
       "      <th>Lat</th>\n",
       "      <th>Lng</th>\n",
       "      <th>Max Temp</th>\n",
       "      <th>Humidity</th>\n",
       "      <th>Cloudiness</th>\n",
       "      <th>Wind Speed</th>\n",
       "      <th>Country</th>\n",
       "      <th>Date</th>\n",
       "    </tr>\n",
       "  </thead>\n",
       "  <tbody>\n",
       "    <tr>\n",
       "      <th>0</th>\n",
       "      <td>pimentel</td>\n",
       "      <td>-6.84</td>\n",
       "      <td>-79.93</td>\n",
       "      <td>66.20</td>\n",
       "      <td>29</td>\n",
       "      <td>75</td>\n",
       "      <td>5.82</td>\n",
       "      <td>PE</td>\n",
       "      <td>1585764415</td>\n",
       "    </tr>\n",
       "    <tr>\n",
       "      <th>1</th>\n",
       "      <td>victoria</td>\n",
       "      <td>22.29</td>\n",
       "      <td>114.16</td>\n",
       "      <td>69.01</td>\n",
       "      <td>88</td>\n",
       "      <td>40</td>\n",
       "      <td>18.34</td>\n",
       "      <td>HK</td>\n",
       "      <td>1585764288</td>\n",
       "    </tr>\n",
       "    <tr>\n",
       "      <th>2</th>\n",
       "      <td>padang</td>\n",
       "      <td>-0.95</td>\n",
       "      <td>100.35</td>\n",
       "      <td>79.90</td>\n",
       "      <td>75</td>\n",
       "      <td>99</td>\n",
       "      <td>1.63</td>\n",
       "      <td>ID</td>\n",
       "      <td>1585764115</td>\n",
       "    </tr>\n",
       "    <tr>\n",
       "      <th>3</th>\n",
       "      <td>hasaki</td>\n",
       "      <td>35.73</td>\n",
       "      <td>140.83</td>\n",
       "      <td>55.00</td>\n",
       "      <td>100</td>\n",
       "      <td>75</td>\n",
       "      <td>4.70</td>\n",
       "      <td>JP</td>\n",
       "      <td>1585764415</td>\n",
       "    </tr>\n",
       "    <tr>\n",
       "      <th>4</th>\n",
       "      <td>kahului</td>\n",
       "      <td>20.89</td>\n",
       "      <td>-156.47</td>\n",
       "      <td>70.00</td>\n",
       "      <td>88</td>\n",
       "      <td>1</td>\n",
       "      <td>7.63</td>\n",
       "      <td>US</td>\n",
       "      <td>1585764415</td>\n",
       "    </tr>\n",
       "  </tbody>\n",
       "</table>\n",
       "</div>"
      ],
      "text/plain": [
       "       City    Lat     Lng  Max Temp  Humidity  Cloudiness  Wind Speed  \\\n",
       "0  pimentel  -6.84  -79.93     66.20        29          75        5.82   \n",
       "1  victoria  22.29  114.16     69.01        88          40       18.34   \n",
       "2    padang  -0.95  100.35     79.90        75          99        1.63   \n",
       "3    hasaki  35.73  140.83     55.00       100          75        4.70   \n",
       "4   kahului  20.89 -156.47     70.00        88           1        7.63   \n",
       "\n",
       "  Country        Date  \n",
       "0      PE  1585764415  \n",
       "1      HK  1585764288  \n",
       "2      ID  1585764115  \n",
       "3      JP  1585764415  \n",
       "4      US  1585764415  "
      ]
     },
     "execution_count": 8,
     "metadata": {},
     "output_type": "execute_result"
    }
   ],
   "source": [
    "# Make a new DataFrame equal to the city data to drop all humidity outliers by index.\n",
    "# Passing \"inplace=False\" will make a copy of the city_data DataFrame, which we call \"clean_city_data\".\n"
   ]
  },
  {
   "cell_type": "code",
   "execution_count": 9,
   "metadata": {},
   "outputs": [],
   "source": [
    "# Extract relevant fields from the data frame\n",
    "\n",
    "\n",
    "# Export the City_Data into a csv\n"
   ]
  },
  {
   "cell_type": "markdown",
   "metadata": {},
   "source": [
    "## Plotting the Data\n",
    "* Use proper labeling of the plots using plot titles (including date of analysis) and axes labels.\n",
    "* Save the plotted figures as .pngs."
   ]
  },
  {
   "cell_type": "markdown",
   "metadata": {},
   "source": [
    "## Latitude vs. Temperature Plot"
   ]
  },
  {
   "cell_type": "code",
   "execution_count": 10,
   "metadata": {
    "scrolled": true
   },
   "outputs": [
    {
     "data": {
      "image/png": "[encoded data removed]",
      "text/plain": [
       "<Figure size 432x288 with 1 Axes>"
      ]
     },
     "metadata": {
      "needs_background": "light"
     },
     "output_type": "display_data"
    }
   ],
   "source": [
    "#Create a Scatter Plot for Lattitude vs Temperature of City\n",
    "plt.scatter(city_data_df[\"Lat\"], city_data_df[\"Max Temp\"], marker='o',s=30, edgecolors= \"black\")\n",
    "plt.title(\"City Latitude vs Max Temperature\")\n",
    "\n",
    "plt.ylim(0,100)\n",
    "plt.xlim(-60, 80)\n",
    "\n",
    "plt.ylabel(\"Max. Temperature (F)\")\n",
    "plt.xlabel(\"Latitude\")\n",
    "plt.grid()\n",
    "# plt.show()\n",
    "\n",
    "plt.savefig(\"LAT VS TEMP.png\")"
   ]
  },
  {
   "cell_type": "markdown",
   "metadata": {},
   "source": [
    "## Latitude vs. Humidity Plot"
   ]
  },
  {
   "cell_type": "code",
   "execution_count": 11,
   "metadata": {},
   "outputs": [
    {
     "data": {
      "image/png": "[encoded data removed]",
      "text/plain": [
       "<Figure size 432x288 with 1 Axes>"
      ]
     },
     "metadata": {
      "needs_background": "light"
     },
     "output_type": "display_data"
    }
   ],
   "source": [
    "#Create a Scatter Plot for Lattitude vs Humidity\n",
    "plt.scatter(city_data_df[\"Lat\"], city_data_df[\"Humidity\"], marker='o', s=30, edgecolors= \"black\")\n",
    "plt.title(\"City Latitude vs Humidity\")\n",
    "plt.ylabel(\"Humidity Level (%)\")\n",
    "plt.xlabel(\"Latitude\")\n",
    "plt.grid()\n",
    "# plt.show()\n",
    "\n",
    "plt.savefig('LAT VS HUM.png')"
   ]
  },
  {
   "cell_type": "markdown",
   "metadata": {},
   "source": [
    "## Latitude vs. Cloudiness Plot"
   ]
  },
  {
   "cell_type": "code",
   "execution_count": 12,
   "metadata": {},
   "outputs": [
    {
     "data": {
      "image/png": "[encoded data removed]",
      "text/plain": [
       "<Figure size 432x288 with 1 Axes>"
      ]
     },
     "metadata": {
      "needs_background": "light"
     },
     "output_type": "display_data"
    }
   ],
   "source": [
    "#Create a Scatter Plot for Lattitude vs Cloudiness\n",
    "plt.scatter(city_data_df[\"Lat\"], city_data_df[\"Cloudiness\"], marker='o', s=30, edgecolors= \"black\")\n",
    "plt.title(\"City Latitude vs Cloudiness\")\n",
    "plt.ylabel(\"Cloudiness Level (%)\")\n",
    "plt.xlabel(\"Latitude\")\n",
    "plt.grid()\n",
    "# plt.show()\n",
    "\n",
    "plt.savefig('LAT VS CLOUD.png')"
   ]
  },
  {
   "cell_type": "markdown",
   "metadata": {},
   "source": [
    "## Latitude vs. Wind Speed Plot"
   ]
  },
  {
   "cell_type": "code",
   "execution_count": 13,
   "metadata": {},
   "outputs": [
    {
     "data": {
      "image/png": "[encoded data removed]",
      "text/plain": [
       "<Figure size 432x288 with 1 Axes>"
      ]
     },
     "metadata": {
      "needs_background": "light"
     },
     "output_type": "display_data"
    }
   ],
   "source": [
    "#Create a Scatter Plot for Lattitude vs WindSpeed\n",
    "plt.scatter(city_data_df[\"Lat\"], city_data_df[\"Wind Speed\"], marker='o', s=30, edgecolors= \"black\")\n",
    "plt.title(\"City Latitude vs Wind Speed\")\n",
    "plt.ylabel(\"Wind Speed (mph)\")\n",
    "plt.xlabel(\"Latitude\")\n",
    "plt.grid()\n",
    "# plt.show()\n",
    "\n",
    "plt.savefig('LAT VS WIND.png')"
   ]
  },
  {
   "cell_type": "markdown",
   "metadata": {},
   "source": [
    "## Linear Regression"
   ]
  },
  {
   "cell_type": "code",
   "execution_count": 14,
   "metadata": {},
   "outputs": [],
   "source": [
    "# OPTIONAL: Create a function to create Linear Regression plots\n",
    "def linear_reg(x_values,y_values,feature,xy_coord,x_lim,y_lim):\n",
    "    (slope, intercept, rvalue, pvalue, stderr) = linregress(x_values, y_values)\n",
    "    regress_values = x_values * slope + intercept\n",
    "    line_eq = \"y = \" + str(round(slope,2)) + \"x + \" + str(round(intercept,2))\n",
    "    print(f\"R squared: {rvalue**2}\")\n",
    "    plt.scatter(x_values,y_values)\n",
    "    plt.plot(x_values,regress_values,\"red\")\n",
    "    plt.annotate(line_eq,xy_coord,fontsize=15,color=\"red\")\n",
    "    plt.ylim(y_lim)\n",
    "    plt.xlim(x_lim)\n",
    "    plt.ylabel(feature)\n",
    "    plt.xlabel('Latitude')\n",
    "   "
   ]
  },
  {
   "cell_type": "code",
   "execution_count": 15,
   "metadata": {},
   "outputs": [
    {
     "name": "stdout",
     "output_type": "stream",
     "text": [
      "           City    Lat     Lng  Max Temp  Humidity  Cloudiness  Wind Speed  \\\n",
      "0  komsomolskiy  40.43   71.72     64.40        52         100        4.70   \n",
      "1         muros  42.78   -9.06     57.00        89          82        1.01   \n",
      "4       cascais  38.70   -9.42     59.00        82          40        4.70   \n",
      "7          hilo  19.73 -155.09     80.60        57          40       11.41   \n",
      "8     yokadouma   3.52   15.05     73.85        66          20        1.43   \n",
      "\n",
      "  Country        Date  \n",
      "0      UZ  1587774471  \n",
      "1      ES  1587774471  \n",
      "4      PT  1587774472  \n",
      "7      US  1587774407  \n",
      "8      CM  1587774474  \n"
     ]
    },
    {
     "data": {
      "text/html": [
       "<div>\n",
       "<style scoped>\n",
       "    .dataframe tbody tr th:only-of-type {\n",
       "        vertical-align: middle;\n",
       "    }\n",
       "\n",
       "    .dataframe tbody tr th {\n",
       "        vertical-align: top;\n",
       "    }\n",
       "\n",
       "    .dataframe thead th {\n",
       "        text-align: right;\n",
       "    }\n",
       "</style>\n",
       "<table border=\"1\" class=\"dataframe\">\n",
       "  <thead>\n",
       "    <tr style=\"text-align: right;\">\n",
       "      <th></th>\n",
       "      <th>City</th>\n",
       "      <th>Lat</th>\n",
       "      <th>Lng</th>\n",
       "      <th>Max Temp</th>\n",
       "      <th>Humidity</th>\n",
       "      <th>Cloudiness</th>\n",
       "      <th>Wind Speed</th>\n",
       "      <th>Country</th>\n",
       "      <th>Date</th>\n",
       "    </tr>\n",
       "  </thead>\n",
       "  <tbody>\n",
       "    <tr>\n",
       "      <td>2</td>\n",
       "      <td>east london</td>\n",
       "      <td>-33.02</td>\n",
       "      <td>27.91</td>\n",
       "      <td>66.61</td>\n",
       "      <td>83</td>\n",
       "      <td>79</td>\n",
       "      <td>11.18</td>\n",
       "      <td>ZA</td>\n",
       "      <td>1587774472</td>\n",
       "    </tr>\n",
       "    <tr>\n",
       "      <td>3</td>\n",
       "      <td>amahai</td>\n",
       "      <td>-3.33</td>\n",
       "      <td>128.92</td>\n",
       "      <td>83.50</td>\n",
       "      <td>73</td>\n",
       "      <td>76</td>\n",
       "      <td>2.51</td>\n",
       "      <td>ID</td>\n",
       "      <td>1587774472</td>\n",
       "    </tr>\n",
       "    <tr>\n",
       "      <td>5</td>\n",
       "      <td>mataura</td>\n",
       "      <td>-46.19</td>\n",
       "      <td>168.86</td>\n",
       "      <td>51.01</td>\n",
       "      <td>89</td>\n",
       "      <td>60</td>\n",
       "      <td>14.00</td>\n",
       "      <td>NZ</td>\n",
       "      <td>1587774472</td>\n",
       "    </tr>\n",
       "    <tr>\n",
       "      <td>6</td>\n",
       "      <td>avarua</td>\n",
       "      <td>-21.21</td>\n",
       "      <td>-159.78</td>\n",
       "      <td>82.40</td>\n",
       "      <td>74</td>\n",
       "      <td>79</td>\n",
       "      <td>8.05</td>\n",
       "      <td>CK</td>\n",
       "      <td>1587774473</td>\n",
       "    </tr>\n",
       "    <tr>\n",
       "      <td>9</td>\n",
       "      <td>namibe</td>\n",
       "      <td>-15.20</td>\n",
       "      <td>12.15</td>\n",
       "      <td>74.55</td>\n",
       "      <td>68</td>\n",
       "      <td>0</td>\n",
       "      <td>5.46</td>\n",
       "      <td>AO</td>\n",
       "      <td>1587774475</td>\n",
       "    </tr>\n",
       "  </tbody>\n",
       "</table>\n",
       "</div>"
      ],
      "text/plain": [
       "          City    Lat     Lng  Max Temp  Humidity  Cloudiness  Wind Speed  \\\n",
       "2  east london -33.02   27.91     66.61        83          79       11.18   \n",
       "3       amahai  -3.33  128.92     83.50        73          76        2.51   \n",
       "5      mataura -46.19  168.86     51.01        89          60       14.00   \n",
       "6       avarua -21.21 -159.78     82.40        74          79        8.05   \n",
       "9       namibe -15.20   12.15     74.55        68           0        5.46   \n",
       "\n",
       "  Country        Date  \n",
       "2      ZA  1587774472  \n",
       "3      ID  1587774472  \n",
       "5      NZ  1587774472  \n",
       "6      CK  1587774473  \n",
       "9      AO  1587774475  "
      ]
     },
     "execution_count": 15,
     "metadata": {},
     "output_type": "execute_result"
    }
   ],
   "source": [
    "# Create Northern and Southern Hemisphere DataFrames\n",
    "\n",
    "northern_hemisphere = city_data_df.loc[city_data_df[\"Lat\"]>0.01]\n",
    "southern_hemisphere = city_data_df.loc[city_data_df[\"Lat\"]<-0.01]\n",
    "\n",
    "print(northern_hemisphere.head())\n",
    "southern_hemisphere.head()"
   ]
  },
  {
   "cell_type": "markdown",
   "metadata": {},
   "source": [
    "####  Northern Hemisphere - Max Temp vs. Latitude Linear Regression"
   ]
  },
  {
   "cell_type": "code",
   "execution_count": 16,
   "metadata": {},
   "outputs": [
    {
     "name": "stdout",
     "output_type": "stream",
     "text": [
      "R squared: 0.7751444730900695\n"
     ]
    },
    {
     "data": {
      "image/png": "[encoded data removed]",
      "text/plain": [
       "<Figure size 432x288 with 1 Axes>"
      ]
     },
     "metadata": {
      "needs_background": "light"
     },
     "output_type": "display_data"
    }
   ],
   "source": [
    "#Create a Scatter Plot for Lattitude vs Temperature of City\n",
    "x_values = northern_hemisphere['Lat']\n",
    "#print(x_values)\n",
    "y_values = northern_hemisphere['Max Temp']\n",
    "#print(y_values)\n",
    "xy_coord = (5,10)\n",
    "x_lim = (0,80)\n",
    "y_lim = (0,100)\n",
    "linear_reg(x_values,y_values,'Max Temp',xy_coord,x_lim,y_lim)\n",
    "plt.savefig(\"NORTH MAX TEMP VS LAT.png\")\n"
   ]
  },
  {
   "cell_type": "markdown",
   "metadata": {},
   "source": [
    "####  Southern Hemisphere - Max Temp vs. Latitude Linear Regression"
   ]
  },
  {
   "cell_type": "code",
   "execution_count": 17,
   "metadata": {},
   "outputs": [
    {
     "name": "stdout",
     "output_type": "stream",
     "text": [
      "R squared: 0.4330325534467647\n"
     ]
    },
    {
     "data": {
      "image/png": "[encoded data removed]",
      "text/plain": [
       "<Figure size 432x288 with 1 Axes>"
      ]
     },
     "metadata": {
      "needs_background": "light"
     },
     "output_type": "display_data"
    }
   ],
   "source": [
    "#Create a Scatter Plot for Lattitude vs Temperature of City (Southern Hemisphere)\n",
    "x_values = southern_hemisphere['Lat']\n",
    "#print(x_values)\n",
    "y_values = southern_hemisphere['Max Temp']\n",
    "#print(y_values)\n",
    "xy_coord = (6,10)\n",
    "x_lim = (-60,10)\n",
    "y_lim = (30,100)\n",
    "linear_reg(x_values,y_values,'Max Temp',xy_coord,x_lim,y_lim)\n",
    "plt.savefig(\"SOUTH MAX TEMP VS LAT.png\")"
   ]
  },
  {
   "cell_type": "markdown",
   "metadata": {},
   "source": [
    "####  Northern Hemisphere - Humidity (%) vs. Latitude Linear Regression"
   ]
  },
  {
   "cell_type": "code",
   "execution_count": 18,
   "metadata": {},
   "outputs": [
    {
     "name": "stdout",
     "output_type": "stream",
     "text": [
      "R squared: 0.02138629421741112\n"
     ]
    },
    {
     "data": {
      "image/png": "[encoded data removed]",
      "text/plain": [
       "<Figure size 432x288 with 1 Axes>"
      ]
     },
     "metadata": {
      "needs_background": "light"
     },
     "output_type": "display_data"
    }
   ],
   "source": [
    "x_values = northern_hemisphere['Lat']\n",
    "#print(x_values)\n",
    "y_values = northern_hemisphere['Humidity']\n",
    "#print(y_values)\n",
    "xy_coord = (6,10)\n",
    "x_lim = (-5,80)\n",
    "y_lim = (20,110)\n",
    "linear_reg(x_values,y_values,'Humidity',xy_coord,x_lim,y_lim)\n",
    "\n",
    "plt.savefig(\"NORTH HUM VS LAT.png\")"
   ]
  },
  {
   "cell_type": "markdown",
   "metadata": {},
   "source": [
    "####  Southern Hemisphere - Humidity (%) vs. Latitude Linear Regression"
   ]
  },
  {
   "cell_type": "code",
   "execution_count": 19,
   "metadata": {},
   "outputs": [
    {
     "name": "stdout",
     "output_type": "stream",
     "text": [
      "R squared: 0.006151460745044142\n"
     ]
    },
    {
     "data": {
      "image/png": "[encoded data removed]",
      "text/plain": [
       "<Figure size 432x288 with 1 Axes>"
      ]
     },
     "metadata": {
      "needs_background": "light"
     },
     "output_type": "display_data"
    }
   ],
   "source": [
    "x_values = southern_hemisphere['Lat']\n",
    "#print(x_values)\n",
    "y_values = southern_hemisphere['Humidity']\n",
    "#print(y_values)\n",
    "xy_coord = (-25,10)\n",
    "x_lim = (-60,5)\n",
    "y_lim = (0,100)\n",
    "linear_reg(x_values,y_values,'Humidity',xy_coord,x_lim,y_lim)\n",
    "\n",
    "plt.savefig(\"NORTH HUM VS LAT.png\")"
   ]
  },
  {
   "cell_type": "markdown",
   "metadata": {},
   "source": [
    "####  Northern Hemisphere - Cloudiness (%) vs. Latitude Linear Regression"
   ]
  },
  {
   "cell_type": "code",
   "execution_count": 20,
   "metadata": {},
   "outputs": [
    {
     "name": "stdout",
     "output_type": "stream",
     "text": [
      "R squared: 0.003340039759394215\n"
     ]
    },
    {
     "data": {
      "image/png": "[encoded data removed]",
      "text/plain": [
       "<Figure size 432x288 with 1 Axes>"
      ]
     },
     "metadata": {
      "needs_background": "light"
     },
     "output_type": "display_data"
    }
   ],
   "source": [
    "x_values = northern_hemisphere['Lat']\n",
    "#print(x_values)\n",
    "y_values = northern_hemisphere['Cloudiness']\n",
    "#print(y_values)\n",
    "xy_coord = (6,10)\n",
    "x_lim = (0,80)\n",
    "y_lim = (-5,110)\n",
    "linear_reg(x_values,y_values,'Cloudiness',xy_coord,x_lim,y_lim)\n",
    "plt.savefig(\"NORTH CLOUD VS LAT.png\")"
   ]
  },
  {
   "cell_type": "markdown",
   "metadata": {},
   "source": [
    "####  Southern Hemisphere - Cloudiness (%) vs. Latitude Linear Regression"
   ]
  },
  {
   "cell_type": "code",
   "execution_count": 21,
   "metadata": {},
   "outputs": [
    {
     "name": "stdout",
     "output_type": "stream",
     "text": [
      "R squared: 0.0009400263011726398\n"
     ]
    },
    {
     "data": {
      "image/png": "[encoded data removed]",
      "text/plain": [
       "<Figure size 432x288 with 1 Axes>"
      ]
     },
     "metadata": {
      "needs_background": "light"
     },
     "output_type": "display_data"
    }
   ],
   "source": [
    "x_values = southern_hemisphere['Lat']\n",
    "#print(x_values)\n",
    "y_values = southern_hemisphere['Cloudiness']\n",
    "#print(y_values)\n",
    "xy_coord = (-25,10)\n",
    "x_lim = (-50,5)\n",
    "y_lim = (-5,110)\n",
    "linear_reg(x_values,y_values,'Cloudiness',xy_coord,x_lim,y_lim)\n",
    "plt.savefig(\"SOUTH CLOUD VS LAT.png\")"
   ]
  },
  {
   "cell_type": "markdown",
   "metadata": {},
   "source": [
    "####  Northern Hemisphere - Wind Speed (mph) vs. Latitude Linear Regression"
   ]
  },
  {
   "cell_type": "code",
   "execution_count": 22,
   "metadata": {},
   "outputs": [
    {
     "name": "stdout",
     "output_type": "stream",
     "text": [
      "R squared: 0.012615670640732879\n"
     ]
    },
    {
     "data": {
      "image/png": "[encoded data removed]",
      "text/plain": [
       "<Figure size 432x288 with 1 Axes>"
      ]
     },
     "metadata": {
      "needs_background": "light"
     },
     "output_type": "display_data"
    }
   ],
   "source": [
    "x_values = northern_hemisphere['Lat']\n",
    "#print(x_values)\n",
    "y_values = northern_hemisphere['Wind Speed']\n",
    "#print(y_values)\n",
    "xy_coord = (45,22)\n",
    "x_lim = (0,80)\n",
    "y_lim = (0,40)\n",
    "linear_reg(x_values,y_values,'Humidity',xy_coord,x_lim,y_lim)\n",
    "\n",
    "plt.savefig(\"NORTH WIND VS LAT.png\")"
   ]
  },
  {
   "cell_type": "markdown",
   "metadata": {},
   "source": [
    "####  Southern Hemisphere - Wind Speed (mph) vs. Latitude Linear Regression"
   ]
  },
  {
   "cell_type": "code",
   "execution_count": 23,
   "metadata": {},
   "outputs": [
    {
     "name": "stdout",
     "output_type": "stream",
     "text": [
      "R squared: 0.012615670640732879\n"
     ]
    },
    {
     "data": {
      "image/png": "[encoded data removed]",
      "text/plain": [
       "<Figure size 432x288 with 1 Axes>"
      ]
     },
     "metadata": {
      "needs_background": "light"
     },
     "output_type": "display_data"
    }
   ],
   "source": [
    "x_values = northern_hemisphere['Lat']\n",
    "#print(x_values)\n",
    "y_values = northern_hemisphere['Wind Speed']\n",
    "#print(y_values)\n",
    "xy_coord = (-10,25)\n",
    "x_lim = (-5,80)\n",
    "y_lim = (0,25)\n",
    "linear_reg(x_values,y_values,'Wind Speed',xy_coord,x_lim,y_lim)\n",
    "\n",
    "plt.savefig(\"NORTH HUM VS LAT.png\")"
   ]
  },
  {
   "cell_type": "code",
   "execution_count": null,
   "metadata": {},
   "outputs": [],
   "source": []
  }
 ],
 "metadata": {
  "anaconda-cloud": {},
  "kernel_info": {
   "name": "python3"
  },
  "kernelspec": {
   "display_name": "Python 3",
   "language": "python",
   "name": "python3"
  },
  "language_info": {
   "codemirror_mode": {
    "name": "ipython",
    "version": 3
   },
   "file_extension": ".py",
   "mimetype": "text/x-python",
   "name": "python",
   "nbconvert_exporter": "python",
   "pygments_lexer": "ipython3",
   "version": "3.7.4"
  },
  "latex_envs": {
   "LaTeX_envs_menu_present": true,
   "autoclose": false,
   "autocomplete": true,
   "bibliofile": "biblio.bib",
   "cite_by": "apalike",
   "current_citInitial": 1,
   "eqLabelWithNumbers": true,
   "eqNumInitial": 1,
   "hotkeys": {
    "equation": "Ctrl-E",
    "itemize": "Ctrl-I"
   },
   "labels_anchors": false,
   "latex_user_defs": false,
   "report_style_numbering": false,
   "user_envs_cfg": false
  },
  "nteract": {
   "version": "0.12.3"
  }
 },
 "nbformat": 4,
 "nbformat_minor": 2
}
