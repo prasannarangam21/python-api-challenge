{
 "cells": [
  {
   "cell_type": "markdown",
   "metadata": {},
   "source": [
    "# VacationPy\n",
    "----\n",
    "\n",
    "#### Note\n",
    "* Instructions have been included for each segment. You do not have to follow them exactly, but they are included to help you think through the steps."
   ]
  },
  {
   "cell_type": "code",
   "execution_count": 1,
   "metadata": {},
   "outputs": [],
   "source": [
    "# Dependencies and Setup\n",
    "import matplotlib.pyplot as plt\n",
    "import pandas as pd\n",
    "import numpy as np\n",
    "import requests\n",
    "import gmaps\n",
    "import os\n",
    "\n",
    "# Import API key\n",
    "from api_keys import g_key\n",
    "gmaps.configure(api_key = g_key)"
   ]
  },
  {
   "cell_type": "markdown",
   "metadata": {},
   "source": [
    "### Store Part I results into DataFrame\n",
    "* Load the csv exported in Part I to a DataFrame"
   ]
  },
  {
   "cell_type": "code",
   "execution_count": 4,
   "metadata": {},
   "outputs": [
    {
     "data": {
      "text/html": [
       "<div>\n",
       "<style scoped>\n",
       "    .dataframe tbody tr th:only-of-type {\n",
       "        vertical-align: middle;\n",
       "    }\n",
       "\n",
       "    .dataframe tbody tr th {\n",
       "        vertical-align: top;\n",
       "    }\n",
       "\n",
       "    .dataframe thead th {\n",
       "        text-align: right;\n",
       "    }\n",
       "</style>\n",
       "<table border=\"1\" class=\"dataframe\">\n",
       "  <thead>\n",
       "    <tr style=\"text-align: right;\">\n",
       "      <th></th>\n",
       "      <th>City</th>\n",
       "      <th>Lat</th>\n",
       "      <th>Lng</th>\n",
       "      <th>Max Temp</th>\n",
       "      <th>Humidity</th>\n",
       "      <th>Cloudiness</th>\n",
       "      <th>Wind Speed</th>\n",
       "      <th>Country</th>\n",
       "      <th>Date</th>\n",
       "    </tr>\n",
       "  </thead>\n",
       "  <tbody>\n",
       "    <tr>\n",
       "      <td>0</td>\n",
       "      <td>puerto ayora</td>\n",
       "      <td>-0.74</td>\n",
       "      <td>-90.35</td>\n",
       "      <td>80.01</td>\n",
       "      <td>87</td>\n",
       "      <td>97</td>\n",
       "      <td>8.01</td>\n",
       "      <td>EC</td>\n",
       "      <td>1587606423</td>\n",
       "    </tr>\n",
       "    <tr>\n",
       "      <td>1</td>\n",
       "      <td>ushuaia</td>\n",
       "      <td>-54.80</td>\n",
       "      <td>-68.30</td>\n",
       "      <td>39.20</td>\n",
       "      <td>64</td>\n",
       "      <td>100</td>\n",
       "      <td>8.05</td>\n",
       "      <td>AR</td>\n",
       "      <td>1587606510</td>\n",
       "    </tr>\n",
       "    <tr>\n",
       "      <td>2</td>\n",
       "      <td>jamestown</td>\n",
       "      <td>42.10</td>\n",
       "      <td>-79.24</td>\n",
       "      <td>32.00</td>\n",
       "      <td>81</td>\n",
       "      <td>90</td>\n",
       "      <td>8.05</td>\n",
       "      <td>US</td>\n",
       "      <td>1587606425</td>\n",
       "    </tr>\n",
       "    <tr>\n",
       "      <td>3</td>\n",
       "      <td>busselton</td>\n",
       "      <td>-33.65</td>\n",
       "      <td>115.33</td>\n",
       "      <td>70.00</td>\n",
       "      <td>62</td>\n",
       "      <td>94</td>\n",
       "      <td>5.84</td>\n",
       "      <td>AU</td>\n",
       "      <td>1587606517</td>\n",
       "    </tr>\n",
       "    <tr>\n",
       "      <td>4</td>\n",
       "      <td>georgiyevskoye</td>\n",
       "      <td>58.73</td>\n",
       "      <td>45.02</td>\n",
       "      <td>25.56</td>\n",
       "      <td>92</td>\n",
       "      <td>100</td>\n",
       "      <td>11.25</td>\n",
       "      <td>RU</td>\n",
       "      <td>1587606517</td>\n",
       "    </tr>\n",
       "    <tr>\n",
       "      <td>...</td>\n",
       "      <td>...</td>\n",
       "      <td>...</td>\n",
       "      <td>...</td>\n",
       "      <td>...</td>\n",
       "      <td>...</td>\n",
       "      <td>...</td>\n",
       "      <td>...</td>\n",
       "      <td>...</td>\n",
       "      <td>...</td>\n",
       "    </tr>\n",
       "    <tr>\n",
       "      <td>552</td>\n",
       "      <td>aasiaat</td>\n",
       "      <td>68.71</td>\n",
       "      <td>-52.87</td>\n",
       "      <td>34.50</td>\n",
       "      <td>84</td>\n",
       "      <td>100</td>\n",
       "      <td>5.79</td>\n",
       "      <td>GL</td>\n",
       "      <td>1587606631</td>\n",
       "    </tr>\n",
       "    <tr>\n",
       "      <td>553</td>\n",
       "      <td>kedzierzyn-kozle</td>\n",
       "      <td>50.35</td>\n",
       "      <td>18.23</td>\n",
       "      <td>41.00</td>\n",
       "      <td>70</td>\n",
       "      <td>0</td>\n",
       "      <td>1.01</td>\n",
       "      <td>PL</td>\n",
       "      <td>1587606632</td>\n",
       "    </tr>\n",
       "    <tr>\n",
       "      <td>554</td>\n",
       "      <td>san jeronimo</td>\n",
       "      <td>-11.95</td>\n",
       "      <td>-75.28</td>\n",
       "      <td>50.50</td>\n",
       "      <td>29</td>\n",
       "      <td>98</td>\n",
       "      <td>1.83</td>\n",
       "      <td>PE</td>\n",
       "      <td>1587606632</td>\n",
       "    </tr>\n",
       "    <tr>\n",
       "      <td>555</td>\n",
       "      <td>kutum</td>\n",
       "      <td>14.20</td>\n",
       "      <td>24.67</td>\n",
       "      <td>62.15</td>\n",
       "      <td>16</td>\n",
       "      <td>97</td>\n",
       "      <td>4.45</td>\n",
       "      <td>SD</td>\n",
       "      <td>1587606632</td>\n",
       "    </tr>\n",
       "    <tr>\n",
       "      <td>556</td>\n",
       "      <td>bastia</td>\n",
       "      <td>42.67</td>\n",
       "      <td>9.33</td>\n",
       "      <td>55.40</td>\n",
       "      <td>93</td>\n",
       "      <td>90</td>\n",
       "      <td>4.70</td>\n",
       "      <td>FR</td>\n",
       "      <td>1587606632</td>\n",
       "    </tr>\n",
       "  </tbody>\n",
       "</table>\n",
       "<p>557 rows × 9 columns</p>\n",
       "</div>"
      ],
      "text/plain": [
       "                 City    Lat     Lng  Max Temp  Humidity  Cloudiness  \\\n",
       "0        puerto ayora  -0.74  -90.35     80.01        87          97   \n",
       "1             ushuaia -54.80  -68.30     39.20        64         100   \n",
       "2           jamestown  42.10  -79.24     32.00        81          90   \n",
       "3           busselton -33.65  115.33     70.00        62          94   \n",
       "4      georgiyevskoye  58.73   45.02     25.56        92         100   \n",
       "..                ...    ...     ...       ...       ...         ...   \n",
       "552           aasiaat  68.71  -52.87     34.50        84         100   \n",
       "553  kedzierzyn-kozle  50.35   18.23     41.00        70           0   \n",
       "554      san jeronimo -11.95  -75.28     50.50        29          98   \n",
       "555             kutum  14.20   24.67     62.15        16          97   \n",
       "556            bastia  42.67    9.33     55.40        93          90   \n",
       "\n",
       "     Wind Speed Country        Date  \n",
       "0          8.01      EC  1587606423  \n",
       "1          8.05      AR  1587606510  \n",
       "2          8.05      US  1587606425  \n",
       "3          5.84      AU  1587606517  \n",
       "4         11.25      RU  1587606517  \n",
       "..          ...     ...         ...  \n",
       "552        5.79      GL  1587606631  \n",
       "553        1.01      PL  1587606632  \n",
       "554        1.83      PE  1587606632  \n",
       "555        4.45      SD  1587606632  \n",
       "556        4.70      FR  1587606632  \n",
       "\n",
       "[557 rows x 9 columns]"
      ]
     },
     "execution_count": 4,
     "metadata": {},
     "output_type": "execute_result"
    }
   ],
   "source": [
    "output_data_file = \"../output_data/cities.csv\"\n",
    "\n",
    "df = pd.read_csv(output_data_file)\n",
    "df\n",
    "vacation_data_df = df.drop(columns=[\"City_ID\"])\n",
    "vacation_data_df\n"
   ]
  },
  {
   "cell_type": "markdown",
   "metadata": {},
   "source": [
    "### Humidity Heatmap\n",
    "* Configure gmaps.\n",
    "* Use the Lat and Lng as locations and Humidity as the weight.\n",
    "* Add Heatmap layer to map."
   ]
  },
  {
   "cell_type": "code",
   "execution_count": 5,
   "metadata": {},
   "outputs": [
    {
     "data": {
      "application/vnd.jupyter.widget-view+json": {
       "model_id": "ce692e353baf485bbc2422069970cd2e",
       "version_major": 2,
       "version_minor": 0
      },
      "text/plain": [
       "Figure(layout=FigureLayout(height='420px'))"
      ]
     },
     "metadata": {},
     "output_type": "display_data"
    }
   ],
   "source": [
    "locations = vacation_data_df[[\"Lat\", \"Lng\"]]\n",
    "humidity = vacation_data_df[\"Humidity\"].astype(float)\n",
    "\n",
    "fig = gmaps.figure()\n",
    "heat_layer = gmaps.heatmap_layer(locations, weights=humidity, \n",
    "                                 dissipating=False, max_intensity=10,\n",
    "                                 point_radius=1)\n",
    "fig.add_layer(heat_layer)\n",
    "fig\n",
    "\n",
    "\n"
   ]
  },
  {
   "cell_type": "markdown",
   "metadata": {},
   "source": [
    "### Create new DataFrame fitting weather criteria\n",
    "* Narrow down the cities to fit weather conditions.\n",
    "* Drop any rows will null values."
   ]
  },
  {
   "cell_type": "code",
   "execution_count": 9,
   "metadata": {},
   "outputs": [
    {
     "ename": "NameError",
     "evalue": "name 'city' is not defined",
     "output_type": "error",
     "traceback": [
      "\u001b[1;31m---------------------------------------------------------------------------\u001b[0m",
      "\u001b[1;31mNameError\u001b[0m                                 Traceback (most recent call last)",
      "\u001b[1;32m<ipython-input-9-77ef96c42b96>\u001b[0m in \u001b[0;36m<module>\u001b[1;34m\u001b[0m\n\u001b[0;32m      7\u001b[0m \u001b[0mwind\u001b[0m \u001b[1;33m=\u001b[0m \u001b[0mvacation_data_df\u001b[0m\u001b[1;33m[\u001b[0m\u001b[1;33m(\u001b[0m\u001b[0mvacation_data_df\u001b[0m\u001b[1;33m[\u001b[0m\u001b[1;34m\"Wind Speed\"\u001b[0m\u001b[1;33m]\u001b[0m \u001b[1;33m<\u001b[0m \u001b[1;36m10\u001b[0m\u001b[1;33m)\u001b[0m\u001b[1;33m]\u001b[0m\u001b[1;33m\u001b[0m\u001b[1;33m\u001b[0m\u001b[0m\n\u001b[0;32m      8\u001b[0m \u001b[0mZero_cloud\u001b[0m \u001b[1;33m=\u001b[0m \u001b[0mvacation_data_df\u001b[0m\u001b[1;33m[\u001b[0m\u001b[1;33m(\u001b[0m\u001b[0mvacation_data_df\u001b[0m\u001b[1;33m[\u001b[0m\u001b[1;34m\"Cloudiness\"\u001b[0m\u001b[1;33m]\u001b[0m  \u001b[1;33m==\u001b[0m \u001b[1;36m0\u001b[0m\u001b[1;33m)\u001b[0m\u001b[1;33m]\u001b[0m\u001b[1;33m\u001b[0m\u001b[1;33m\u001b[0m\u001b[0m\n\u001b[1;32m----> 9\u001b[1;33m new_df = pd.DataFrame(vacation_data_df({\"City\": city,\n\u001b[0m\u001b[0;32m     10\u001b[0m                                         \u001b[1;34m\"Lat\"\u001b[0m\u001b[1;33m:\u001b[0m \u001b[0mlat\u001b[0m\u001b[1;33m,\u001b[0m\u001b[1;33m\u001b[0m\u001b[1;33m\u001b[0m\u001b[0m\n\u001b[0;32m     11\u001b[0m                                         \u001b[1;34m\"Lng\"\u001b[0m\u001b[1;33m:\u001b[0m \u001b[0mlon\u001b[0m\u001b[1;33m,\u001b[0m\u001b[1;33m\u001b[0m\u001b[1;33m\u001b[0m\u001b[0m\n",
      "\u001b[1;31mNameError\u001b[0m: name 'city' is not defined"
     ]
    }
   ],
   "source": [
    "# A max temperature lower than 80 degrees but higher than 70\n",
    "# Wind speed less than 10 mph\n",
    "# Zero cloudiness\n",
    "# Drop any rows that don't contain all three conditions. You want to be sure the weather is ideal\n",
    "\n",
    "temp = vacation_data_df[(vacation_data_df[\"Max Temp\"] < 80) & (vacation_data_df[\"Max Temp\"] > 70)]\n",
    "wind = vacation_data_df[(vacation_data_df[\"Wind Speed\"] < 10)]\n",
    "Zero_cloud = vacation_data_df[(vacation_data_df[\"Cloudiness\"]  == 0)]\n",
    "\n",
    "new_df = pd.DataFrame(vacation_data_df({\"City\": city,\n",
    "                                        \"Lat\": lat,\n",
    "                                        \"Lng\": lon,\n",
    "                                        \"Max Temp\": temp,\n",
    "                                        \"Humidity\": humidity,\n",
    "                                        \"Cloudiness\": Zero_cloud,\n",
    "                                        \"Wind Speed\": wind,\n",
    "                                        \"Country\": country,\n",
    "                                        \"Date\": date}))\n",
    "new_df"
   ]
  },
  {
   "cell_type": "markdown",
   "metadata": {},
   "source": [
    "### Hotel Map\n",
    "* Store into variable named `hotel_df`.\n",
    "* Add a \"Hotel Name\" column to the DataFrame.\n",
    "* Set parameters to search for hotels with 5000 meters.\n",
    "* Hit the Google Places API for each city's coordinates.\n",
    "* Store the first Hotel result into the DataFrame.\n",
    "* Plot markers on top of the heatmap."
   ]
  },
  {
   "cell_type": "code",
   "execution_count": null,
   "metadata": {},
   "outputs": [],
   "source": [
    "hotel_df = new_df\n",
    "hotel_df[\"Hotel Name\"] = \"\"\n"
   ]
  },
  {
   "cell_type": "code",
   "execution_count": 11,
   "metadata": {},
   "outputs": [
    {
     "data": {
      "text/plain": [
       "{'error_message': \"Invalid request. Missing the 'address', 'components', 'latlng' or 'place_id' parameter.\",\n",
       " 'results': [],\n",
       " 'status': 'INVALID_REQUEST'}"
      ]
     },
     "execution_count": 11,
     "metadata": {},
     "output_type": "execute_result"
    }
   ],
   "source": [
    "my_address = \"\"\n",
    "params ={ \"radius\": 5000,\n",
    "           \"types\": \"lodging\",\n",
    "           \"address\": my_address,\n",
    "           \"key\": g_key\n",
    "        }\n",
    "base_url = \"https://maps.googleapis.com/maps/api/geocode/json\"\n",
    "my_geo = requests.get(base_url, params).json()\n",
    "my_geo\n",
    "\n",
    "lat = my_geo[\"results\"][0][\"geometry\"][\"location\"][\"lat\"]\n",
    "lng = my_geo[\"results\"][0][\"geometry\"][\"location\"][\"lng\"]\n",
    "target_search = \"Hotel\"\n",
    "\n",
    "params = {\n",
    "    \"location\": f\"{lat},{lng}\",\n",
    "    \"types\": target_search,\n",
    "    \"rankby\": \"distance\",\n",
    "    \"key\": gkey\n",
    "}\n",
    "\n",
    "base_url = \"https://maps.googleapis.com/maps/api/place/nearbysearch/json\"\n",
    "\n",
    "response = requests.get(base_url, params)\n",
    "hotels_nearby = response.json()\n",
    "try:\n",
    "    print(hotels_nearby[\"results\"][0][\"name\"])\n",
    "    print(hotels_nearby[\"results\"][0][\"vicinity\"])\n",
    "except KeyError:\n",
    "    print(\"Hotel not found\")\n"
   ]
  },
  {
   "cell_type": "code",
   "execution_count": null,
   "metadata": {},
   "outputs": [],
   "source": [
    "# NOTE: Do not change any of the code in this cell\n",
    "\n",
    "# Using the template add the hotel marks to the heatmap\n",
    "info_box_template = \"\"\"\n",
    "<dl>\n",
    "<dt>Name</dt><dd>{Hotel Name}</dd>\n",
    "<dt>City</dt><dd>{City}</dd>\n",
    "<dt>Country</dt><dd>{Country}</dd>\n",
    "</dl>\n",
    "\"\"\"\n",
    "# Store the DataFrame Row\n",
    "# NOTE: be sure to update with your DataFrame name\n",
    "hotel_info = [info_box_template.format(**row) for index, row in hotel_df.iterrows()]\n",
    "locations = hotel_df[[\"Lat\", \"Lng\"]]"
   ]
  },
  {
   "cell_type": "code",
   "execution_count": 12,
   "metadata": {},
   "outputs": [
    {
     "ename": "NameError",
     "evalue": "name 'rating' is not defined",
     "output_type": "error",
     "traceback": [
      "\u001b[1;31m---------------------------------------------------------------------------\u001b[0m",
      "\u001b[1;31mNameError\u001b[0m                                 Traceback (most recent call last)",
      "\u001b[1;32m<ipython-input-12-66c4296b633a>\u001b[0m in \u001b[0;36m<module>\u001b[1;34m\u001b[0m\n\u001b[0;32m      4\u001b[0m \u001b[1;33m\u001b[0m\u001b[0m\n\u001b[0;32m      5\u001b[0m \u001b[1;31m# Create heat layer\u001b[0m\u001b[1;33m\u001b[0m\u001b[1;33m\u001b[0m\u001b[1;33m\u001b[0m\u001b[0m\n\u001b[1;32m----> 6\u001b[1;33m heat_layer = gmaps.heatmap_layer(locations, weights=rating, \n\u001b[0m\u001b[0;32m      7\u001b[0m                                  \u001b[0mdissipating\u001b[0m\u001b[1;33m=\u001b[0m\u001b[1;32mFalse\u001b[0m\u001b[1;33m,\u001b[0m \u001b[0mmax_intensity\u001b[0m\u001b[1;33m=\u001b[0m\u001b[1;36m10\u001b[0m\u001b[1;33m,\u001b[0m\u001b[1;33m\u001b[0m\u001b[1;33m\u001b[0m\u001b[0m\n\u001b[0;32m      8\u001b[0m                                  point_radius=1)\n",
      "\u001b[1;31mNameError\u001b[0m: name 'rating' is not defined"
     ]
    }
   ],
   "source": [
    "# Add marker layer ontop of heat map\n",
    "\n",
    "fig = gmaps.figure()\n",
    "\n",
    "# Create heat layer\n",
    "heat_layer = gmaps.heatmap_layer(locations, weights=rating, \n",
    "                                 dissipating=False, max_intensity=10,\n",
    "                                 point_radius=1)\n",
    "\n",
    "\n",
    "# Add layer\n",
    "fig.add_layer(heat_layer)\n",
    "\n",
    "# Display figure\n",
    "fig\n",
    "\n"
   ]
  },
  {
   "cell_type": "code",
   "execution_count": null,
   "metadata": {},
   "outputs": [],
   "source": []
  }
 ],
 "metadata": {
  "kernelspec": {
   "display_name": "Python 3",
   "language": "python",
   "name": "python3"
  },
  "language_info": {
   "codemirror_mode": {
    "name": "ipython",
    "version": 3
   },
   "file_extension": ".py",
   "mimetype": "text/x-python",
   "name": "python",
   "nbconvert_exporter": "python",
   "pygments_lexer": "ipython3",
   "version": "3.7.4"
  },
  "latex_envs": {
   "LaTeX_envs_menu_present": true,
   "autoclose": false,
   "autocomplete": true,
   "bibliofile": "biblio.bib",
   "cite_by": "apalike",
   "current_citInitial": 1,
   "eqLabelWithNumbers": true,
   "eqNumInitial": 1,
   "hotkeys": {
    "equation": "Ctrl-E",
    "itemize": "Ctrl-I"
   },
   "labels_anchors": false,
   "latex_user_defs": false,
   "report_style_numbering": false,
   "user_envs_cfg": false
  }
 },
 "nbformat": 4,
 "nbformat_minor": 2
}
